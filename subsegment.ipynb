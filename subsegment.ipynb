{
 "cells": [
  {
   "cell_type": "markdown",
   "id": "f92a21d3",
   "metadata": {},
   "source": [
    "# Subsegmentation of ALIC tracts\n",
    "\n",
    "This notebook is used for rapid prototyping of the ALIC segmentation pipeline. Once complete and relatively stable, it will be converted to a python script."
   ]
  },
  {
   "cell_type": "code",
   "execution_count": null,
   "id": "spread-encyclopedia",
   "metadata": {},
   "outputs": [],
   "source": [
    "%matplotlib inline"
   ]
  },
  {
   "cell_type": "code",
   "execution_count": null,
   "id": "212f2b72",
   "metadata": {},
   "outputs": [],
   "source": [
    "import os\n",
    "import sys\n",
    "sys.path.append('wma_pyTools')\n",
    "\n",
    "# import wmaPyTools.roiTools"
   ]
  },
  {
   "cell_type": "code",
   "execution_count": null,
   "id": "nearby-fabric",
   "metadata": {},
   "outputs": [],
   "source": [
    "import os\n",
    "import sys\n",
    "import itertools\n",
    "import numpy as np\n",
    "from pathlib import Path\n",
    "import nibabel as nib\n",
    "#import random\n",
    "\n",
    "#make sure that wma_pyTools is right in the working directory, or that\n",
    "#the package can otherwise be imported effectively\n",
    "#sys.path.append('wma_pyTools')\n",
    "startDir=Path(os.getcwd())\n",
    "import pandas as pd\n",
    "import wmaPyTools.roiTools\n",
    "import wmaPyTools.analysisTools\n",
    "import wmaPyTools.segmentationTools\n",
    "import wmaPyTools.streamlineTools\n",
    "import wmaPyTools.visTools\n",
    "\n",
    "#dipy\n",
    "from dipy.tracking.utils import reduce_labels\n",
    "from dipy.tracking import utils\n",
    "import dipy.io.streamline\n",
    "from dipy.tracking.utils import density_map"
   ]
  },
  {
   "cell_type": "code",
   "execution_count": null,
   "id": "dress-gather",
   "metadata": {},
   "outputs": [],
   "source": [
    "targetLabels={'left':[1002,1026,1012,1020,1028,1003,1014,1019,1027],\n",
    "              'right':[2002,2026,2012,2020,2028,2003,2014,2019,2027]}\n",
    "spineLabels = {'left': [28, 16, 10], \n",
    "               'right': [16, 60, 49]}\n",
    "\n",
    "#paths to input data\n",
    "data_dir = startDir /'indata'\n",
    "track_files = {\n",
    "    'left': [data_dir / 'combined_aLIC_left.tck',],\n",
    "    'right': [data_dir / 'combined_aLIC_right.tck',]}\n",
    "parcellationPath=data_dir / 'aparc+aseg.nii.gz'\n",
    "refT1Path=data_dir / 'T1w_acpc_dc_restore.nii.gz'\n",
    "\n",
    "# Freesurfer lookup table, e.g. https://surfer.nmr.mgh.harvard.edu/fswiki/FsTutorial/AnatomicalROI/FreeSurferColorLUT\n",
    "lutPath=data_dir / 'FreesurferLookup.csv'\n",
    "\n",
    "#tckPath=Path('/home/naxos2-raid25/sreta001/DBS_for_sreta001/DBS-OCD/OCD004/Code/app-track_aLIC_harelpreproc/output/track.tck')\n",
    "saveFigDir=startDir / 'output'\n"
   ]
  },
  {
   "cell_type": "code",
   "execution_count": null,
   "id": "58b7e0ab",
   "metadata": {},
   "outputs": [],
   "source": [
    "# sanity check inputs\n",
    "to_check = [ parcellationPath, refT1Path, lutPath]\n",
    "for side in ['left', 'right']:\n",
    "    for tck in track_files[side]:\n",
    "        to_check.append(tck)\n",
    "        \n",
    "for i in to_check:\n",
    "    print(i)\n",
    "    assert(i.is_file())"
   ]
  },
  {
   "cell_type": "code",
   "execution_count": null,
   "id": "9e0497c2",
   "metadata": {},
   "outputs": [],
   "source": [
    "# define functions to generate tck for target\n",
    "\n",
    "def get_streams_matching_target(streams, atlas, target):\n",
    "    target_mask=wmaPyTools.roiTools.multiROIrequestToMask(atlas,target)\n",
    "    # return boolean mask for stream selection\n",
    "    return wmaPyTools.segmentationTools.segmentTractMultiROI(streams, \n",
    "                    [target_mask,], \n",
    "                    [True,], \n",
    "                    ['either_end',]) \n",
    "    \n",
    "def save_density_map(streams, ref_img, out_file):\n",
    "    density=utils.density_map(streams, ref_img.affine, ref_img.shape)\n",
    "    densityNifti = nib.nifti1.Nifti1Image(density, ref_img.affine, ref_img.header)\n",
    "    nib.save(densityNifti, out_file)\n",
    "    \n",
    "def save_streams_matching_target(streams, atlas, lookupTable, target, out_file):\n",
    "    strTarget = lookupTable.loc[target, 'LabelName:']\n",
    "    print('target label is: %s (%s)' % (target, strTarget))\n",
    "    #out_file = Path(save_dir) / ('track_%04d_%s' % (target,strTarget)) #no file extension yet, add it later\n",
    "    print(out_file)\n",
    "    # get boolean vector of matching streams\n",
    "    targetBool = get_streams_matching_target(streams, atlas, target)\n",
    "    streams = streams[targetBool]\n",
    "    \n",
    "    #dipy quickbundles\n",
    "    streams = streams[bundle(streams)]\n",
    "    \n",
    "    #save *.tck tractogram\n",
    "    wmaPyTools.streamlineTools.stubbornSaveTractogram(streams,\n",
    "        savePath=str(out_file.with_suffix('.tck')))\n",
    "    # save nifti density map\n",
    "    save_density_map(streams, atlas, out_file.with_suffix('.nii.gz'))\n",
    "    return targetBool\n",
    "    \n",
    "#targetBool = save_streams_matching_target(streams,inflatedAtlas, lookupTable, iTarget, saveFigDir)\n",
    "#wmaPyTools.streamlineTools.stubbornSaveTractogram(streams[targetBool], \n",
    "#    savePath=str(saveFigDir / '1002_test.tck' )"
   ]
  },
  {
   "cell_type": "code",
   "execution_count": null,
   "id": "1325fbc0",
   "metadata": {},
   "outputs": [],
   "source": [
    "#apply the initial culling, to remove extraneous streamlines \n",
    "#first requires doing a DIPY quickbundling\n",
    "def bundle(streams):\n",
    "    print(\"DIPY quickbundle\")\n",
    "    clusters=wmaPyTools.streamlineTools.quickbundlesClusters(streams, thresholds = [30,20,10], nb_pts=100)\n",
    "\n",
    "    #use those clusters to identify the streamlines to be culled\n",
    "    print(\"identify streamlines to remove\")\n",
    "    survivingStreamsIndices, culledStreamIndicies=wmaPyTools.streamlineTools.cullViaClusters(clusters,streams,3)\n",
    "    #convert survivingStreamsIndicies into a bool vec\n",
    "    survivingStreamsBoolVec=np.zeros(len(streams),dtype=bool)\n",
    "    survivingStreamsBoolVec[survivingStreamsIndices]=True\n",
    "    \n",
    "    print('%d of %d streams survived' % (len(survivingStreamsIndices), len(survivingStreamsBoolVec)))\n",
    "    \n",
    "    return survivingStreamsBoolVec"
   ]
  },
  {
   "cell_type": "code",
   "execution_count": null,
   "id": "274bfe54",
   "metadata": {},
   "outputs": [],
   "source": [
    "# load atlas-baced segmentation (Dan calls it a parcellation)\n",
    "parcellaton=nib.load(parcellationPath)"
   ]
  },
  {
   "cell_type": "code",
   "execution_count": null,
   "id": "7f9d10b7",
   "metadata": {},
   "outputs": [],
   "source": [
    "# load T1 anatomical image\n",
    "refT1=nib.load(refT1Path)"
   ]
  },
  {
   "cell_type": "code",
   "execution_count": null,
   "id": "ff76a5d2",
   "metadata": {},
   "outputs": [],
   "source": [
    "# load Freesurfer labels\n",
    "lookupTable=pd.read_csv(lutPath,index_col='#No.')"
   ]
  },
  {
   "cell_type": "code",
   "execution_count": null,
   "id": "21dfbf2e",
   "metadata": {
    "scrolled": false
   },
   "outputs": [],
   "source": [
    "#perform inflate & deIsland of input parcellation\n",
    "inflated_atlas_file = saveFigDir / Path(Path(parcellationPath.stem).stem + '_inflated').with_suffix('.nii.gz')\n",
    "print(inflated_atlas_file)\n",
    "inflatedAtlas,deIslandReport,inflationReport= wmaPyTools.roiTools.preProcParc(parcellaton,deIslandBool=True,inflateIter=2,retainOrigBorders=False,maintainIslandsLabels=None,erodeLabels=[2,41])    \n",
    "nib.save(inflatedAtlas,filename=inflated_atlas_file)"
   ]
  },
  {
   "cell_type": "code",
   "execution_count": null,
   "id": "bd264b02",
   "metadata": {
    "scrolled": true
   },
   "outputs": [],
   "source": [
    "#Main cell, do all the hard work\n",
    "\n",
    "for iSide in ['left', 'right']:\n",
    "    for track_file in track_files[iSide]:        \n",
    "        # load & orient streamlines\n",
    "        \n",
    "        tck_oriented_file = saveFigDir / Path(track_file.stem + '_oriented').with_suffix('.tck')\n",
    "        if tck_oriented_file.exists():\n",
    "            print('oriented tck already exists. loading %s' % tck_oriented_file)\n",
    "            tckIn=nib.streamlines.load(tck_oriented_file)\n",
    "            streams = tckIn.streamlines\n",
    "        else:\n",
    "            print('Load tck %s' % track_file)\n",
    "            tckIn=nib.streamlines.load(track_file)\n",
    "            print(\"orienting streamlines\")\n",
    "            streams=wmaPyTools.streamlineTools.orientAllStreamlines(tckIn.streamlines)\n",
    "            # do quickbundles (never mind, takes too long)\n",
    "            #streams = streams[bundle(streams)]\n",
    "            # save oriented + bundled streams\n",
    "            print('saving oriented tck %s' % tck_oriented_file)\n",
    "            wmaPyTools.streamlineTools.stubbornSaveTractogram(streams,savePath=str(tck_oriented_file))\n",
    "        \n",
    "        parent_density_file = saveFigDir / Path(track_file.stem).with_suffix('.nii.gz')\n",
    "        print('saving density map %s' % parent_density_file)\n",
    "        save_density_map(streams, inflatedAtlas, parent_density_file)\n",
    "        \n",
    "        for iTarget in targetLabels[iSide]:\n",
    "            targetStr = lookupTable.loc[iTarget, 'LabelName:']\n",
    "            out_file = saveFigDir / ('%s_%04d_%s' % (track_file.stem, iTarget, targetStr))\n",
    "            print('Starting processing for %s' % out_file.stem)\n",
    "            \n",
    "            # subsegment the streams and save the resulting density map and tck tractogram\n",
    "            targetBool = save_streams_matching_target(streams, inflatedAtlas, lookupTable, iTarget, out_file)\n",
    "\n",
    "            "
   ]
  },
  {
   "cell_type": "code",
   "execution_count": null,
   "id": "c505057b",
   "metadata": {},
   "outputs": [],
   "source": []
  },
  {
   "cell_type": "markdown",
   "id": "fa2463a2",
   "metadata": {},
   "source": [
    "## Appendix"
   ]
  },
  {
   "cell_type": "code",
   "execution_count": null,
   "id": "1b47653f",
   "metadata": {},
   "outputs": [],
   "source": [
    "# generate combined niftis which are the sum of all sides\n",
    "for iSide in ['left', 'right']:\n",
    "    for iTarget in targetLabels[iSide]:\n",
    "        combined_img = np.zeros(refT1.shape)\n",
    "        for track_file in track_files[iSide]:  # iterate over inferior and superior\n",
    "            targetStr = lookupTable.loc[iTarget, 'LabelName:']\n",
    "            in_file = saveFigDir / ('%s_%04d_%s' % (track_file.stem, iTarget, targetStr))\n",
    "            print(in_file)\n",
    "            combined_img += nib.load(in_file.with_suffix('.nii.gz')).get_fdata()\n",
    "        combined_file  = saveFigDir / ('combined_aLIC_%04d_%s' % ( iTarget, targetStr))\n",
    "        combinedNifti = nib.nifti1.Nifti1Image(combined_img, refT1.affine, refT1.header)\n",
    "        print(combined_file)\n",
    "        nib.save(combinedNifti, combined_file.with_suffix('.nii.gz'))\n",
    "        "
   ]
  },
  {
   "cell_type": "code",
   "execution_count": null,
   "id": "943d5402",
   "metadata": {},
   "outputs": [],
   "source": [
    "# load tractogram\n",
    "# SKIPPED because we're iterating over multiple tractograms\n",
    "tckIn=nib.streamlines.load(tckPath)"
   ]
  },
  {
   "cell_type": "code",
   "execution_count": null,
   "id": "c33e7ae7",
   "metadata": {
    "scrolled": false
   },
   "outputs": [],
   "source": [
    "# orient all the steamlines, potentially not necessary given redundancy with \n",
    "# subsequent steps\n",
    "# SKIPPED because we're using either_end selection\n",
    "\n",
    "print(\"orienting streamlines\")\n",
    "orientedStreams=wmaPyTools.streamlineTools.orientAllStreamlines(tckIn.streamlines)"
   ]
  },
  {
   "cell_type": "code",
   "execution_count": null,
   "id": "da290219",
   "metadata": {},
   "outputs": [],
   "source": [
    "# save oriented streams\n",
    "# SKIPPED\n",
    "print(\"save oriented tck\")\n",
    "subTckSavePath=os.path.join(saveFigDir,'track_oriented.tck')\n",
    "wmaPyTools.streamlineTools.stubbornSaveTractogram(orientedStreams,savePath=subTckSavePath)\n"
   ]
  },
  {
   "cell_type": "code",
   "execution_count": null,
   "id": "755f4b1c",
   "metadata": {},
   "outputs": [],
   "source": [
    "# save lite streamlines\n",
    "#SKIPPED\n",
    "n_streams_to_keep = int(5E5)\n",
    "select_bool = np.random.choice(range(len(orientedStreams)), n_streams_to_keep, replace=False)\n",
    "lite_streams = orientedStreams[select_bool]\n",
    "wmaPyTools.streamlineTools.stubbornSaveTractogram(lite_streams,\n",
    "    savePath=str(Path(saveFigDir) / 'track_lite.tck'))\n"
   ]
  },
  {
   "cell_type": "code",
   "execution_count": null,
   "id": "10654e17",
   "metadata": {},
   "outputs": [],
   "source": [
    "# select streamlines to work on\n",
    "\n",
    "streams = lite_streams\n"
   ]
  },
  {
   "cell_type": "code",
   "execution_count": null,
   "id": "f1ef4764",
   "metadata": {},
   "outputs": [],
   "source": [
    "from dipy.tracking.utils import density_map\n",
    "from wmaPyTools.visTools import multiTileDensity\n",
    "\n",
    "multiTileDensity(streams,refT1,saveFigDir,'density',densityThreshold=0,noEmpties=True)"
   ]
  },
  {
   "cell_type": "code",
   "execution_count": null,
   "id": "80b8f2bf",
   "metadata": {},
   "outputs": [],
   "source": [
    "M, grouping = utils.connectivity_matrix(streams, inflatedAtlas.affine, inflatedAtlas.get_fdata().astype(np.int),\n",
    "                                        return_mapping=True,\n",
    "                                        mapping_as_streamlines=True)"
   ]
  },
  {
   "cell_type": "code",
   "execution_count": null,
   "id": "106c672d",
   "metadata": {},
   "outputs": [],
   "source": [
    "np.shape(M)"
   ]
  },
  {
   "cell_type": "code",
   "execution_count": null,
   "id": "3571e6dd",
   "metadata": {},
   "outputs": [],
   "source": [
    "targets = targetLabels['left'] + targetLabels['right']\n",
    "targets.sort()\n",
    "for iTarget in targets:\n",
    "    print(iTarget)\n",
    "    print(lookupTable.loc[iTarget, 'LabelName:'])"
   ]
  },
  {
   "cell_type": "code",
   "execution_count": null,
   "id": "34d698d6",
   "metadata": {},
   "outputs": [],
   "source": []
  },
  {
   "cell_type": "code",
   "execution_count": null,
   "id": "3f233805",
   "metadata": {},
   "outputs": [],
   "source": []
  },
  {
   "cell_type": "code",
   "execution_count": null,
   "id": "b3d8005b",
   "metadata": {},
   "outputs": [],
   "source": []
  },
  {
   "cell_type": "code",
   "execution_count": null,
   "id": "b6e81341",
   "metadata": {
    "scrolled": false
   },
   "outputs": [],
   "source": []
  }
 ],
 "metadata": {
  "kernelspec": {
   "display_name": "Python 3 (ipykernel)",
   "language": "python",
   "name": "python3"
  },
  "language_info": {
   "codemirror_mode": {
    "name": "ipython",
    "version": 3
   },
   "file_extension": ".py",
   "mimetype": "text/x-python",
   "name": "python",
   "nbconvert_exporter": "python",
   "pygments_lexer": "ipython3",
   "version": "3.10.8"
  }
 },
 "nbformat": 4,
 "nbformat_minor": 5
}
