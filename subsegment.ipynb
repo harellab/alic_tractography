{
 "cells": [
  {
   "cell_type": "code",
   "execution_count": 1,
   "id": "spread-encyclopedia",
   "metadata": {},
   "outputs": [
    {
     "name": "stdout",
     "output_type": "stream",
     "text": [
      "%pylab is deprecated, use %matplotlib inline and import the required libraries.\n",
      "Populating the interactive namespace from numpy and matplotlib\n"
     ]
    }
   ],
   "source": [
    "%pylab inline"
   ]
  },
  {
   "cell_type": "code",
   "execution_count": 4,
   "id": "212f2b72",
   "metadata": {},
   "outputs": [
    {
     "name": "stdout",
     "output_type": "stream",
     "text": [
      "/home/udall-raid2/DBS_collaborators/DBS_for_sreta001/DBS-OCD/SLEEP116V2/Code/subsegment\n",
      "['/home/udall-raid2/DBS_collaborators/DBS_for_sreta001/DBS-OCD/SLEEP116V2/Code/subsegment', '/home/naxos2-raid9/hbraun/dbs/dbs-pipeline/src', '/opt/local/dbs/bin/DBS-segmentations-0.1.2', '/home/udall-raid2/DBS_collaborators/DBS_for_sreta001/DBS-OCD/SLEEP116V2/Code/subsegment', '/opt/local/dbs/bin/miniconda3/envs/subsegment/lib/python310.zip', '/opt/local/dbs/bin/miniconda3/envs/subsegment/lib/python3.10', '/opt/local/dbs/bin/miniconda3/envs/subsegment/lib/python3.10/lib-dynload', '', '/opt/local/dbs/bin/miniconda3/envs/subsegment/lib/python3.10/site-packages', '/opt/local/dbs/bin/miniconda3/envs/subsegment/lib/python3.10/site-packages/PyQt5_sip-12.11.0-py3.10-linux-x86_64.egg', '/opt/local/dbs/bin/miniconda3/envs/subsegment/lib/python3.10/site-packages/PyYAML-6.0-py3.10-linux-x86_64.egg', 'wma_pyTools', 'wma_pyTools']\n"
     ]
    }
   ],
   "source": [
    "import os\n",
    "import sys\n",
    "sys.path.append('wma_pyTools')\n",
    "startDir=os.getcwd()\n",
    "print(startDir)\n",
    "print(sys.path)\n",
    "# import wmaPyTools.roiTools"
   ]
  },
  {
   "cell_type": "code",
   "execution_count": 6,
   "id": "nearby-fabric",
   "metadata": {},
   "outputs": [],
   "source": [
    "import os\n",
    "import sys\n",
    "import itertools\n",
    "import numpy as np\n",
    "from pathlib import Path\n",
    "import nibabel as nib\n",
    "#import random\n",
    "\n",
    "#make sure that wma_pyTools is right in the working directory, or that\n",
    "#the package can otherwise be imported effectively\n",
    "sys.path.append('wma_pyTools')\n",
    "startDir=Path(os.getcwd())\n",
    "import pandas as pd\n",
    "import wmaPyTools.roiTools\n",
    "import wmaPyTools.analysisTools\n",
    "import wmaPyTools.segmentationTools\n",
    "import wmaPyTools.streamlineTools\n",
    "import wmaPyTools.visTools\n",
    "\n",
    "#dipy\n",
    "from dipy.tracking.utils import reduce_labels\n",
    "from dipy.tracking import utils\n",
    "import dipy.io.streamline\n",
    "from dipy.tracking.utils import density_map"
   ]
  },
  {
   "cell_type": "code",
   "execution_count": 7,
   "id": "dress-gather",
   "metadata": {},
   "outputs": [],
   "source": [
    "targetLabels={'left':[1002,1026,1012,1020,1028,1003,1014,1019,1027],\n",
    "              'right':[2002,2026,2012,2020,2028,2003,2014,2019,2027]}\n",
    "spineLabels = {'left': [28, 16, 10], \n",
    "               'right': [16, 60, 49]}\n",
    "\n",
    "#paths to input data\n",
    "data_dir = startDir /'indata'\n",
    "track_files = {\n",
    "    'left': [data_dir / 'inferior_aLIC_left.tck', data_dir / 'superior_aLIC_left.tck'],\n",
    "    'right': [data_dir / 'inferior_aLIC_right.tck', data_dir / 'superior_aLIC_right.tck']}\n",
    "parcellationPath=data_dir / 'aparc+aseg.nii.gz'\n",
    "refT1Path=data_dir / 'T1w_acpc_dc_restore.nii.gz'\n",
    "\n",
    "# Freesurfer lookup table, e.g. https://surfer.nmr.mgh.harvard.edu/fswiki/FsTutorial/AnatomicalROI/FreeSurferColorLUT\n",
    "lutPath=data_dir / 'FreesurferLookup.csv'\n",
    "\n",
    "#tckPath=Path('/home/naxos2-raid25/sreta001/DBS_for_sreta001/DBS-OCD/OCD004/Code/app-track_aLIC_harelpreproc/output/track.tck')\n",
    "saveFigDir=startDir / 'output'\n"
   ]
  },
  {
   "cell_type": "code",
   "execution_count": 10,
   "id": "58b7e0ab",
   "metadata": {},
   "outputs": [
    {
     "name": "stdout",
     "output_type": "stream",
     "text": [
      "/home/udall-raid2/DBS_collaborators/DBS_for_sreta001/DBS-OCD/SLEEP116V2/Code/subsegment/indata/aparc+aseg.nii.gz\n",
      "/home/udall-raid2/DBS_collaborators/DBS_for_sreta001/DBS-OCD/SLEEP116V2/Code/subsegment/indata/T1w_acpc_dc_restore.nii.gz\n",
      "/home/udall-raid2/DBS_collaborators/DBS_for_sreta001/DBS-OCD/SLEEP116V2/Code/subsegment/indata/FreesurferLookup.csv\n",
      "/home/udall-raid2/DBS_collaborators/DBS_for_sreta001/DBS-OCD/SLEEP116V2/Code/subsegment/indata/inferior_aLIC_left.tck\n",
      "/home/udall-raid2/DBS_collaborators/DBS_for_sreta001/DBS-OCD/SLEEP116V2/Code/subsegment/indata/superior_aLIC_left.tck\n",
      "/home/udall-raid2/DBS_collaborators/DBS_for_sreta001/DBS-OCD/SLEEP116V2/Code/subsegment/indata/inferior_aLIC_right.tck\n",
      "/home/udall-raid2/DBS_collaborators/DBS_for_sreta001/DBS-OCD/SLEEP116V2/Code/subsegment/indata/superior_aLIC_right.tck\n"
     ]
    }
   ],
   "source": [
    "# sanity check inputs\n",
    "to_check = [ parcellationPath, refT1Path, lutPath]\n",
    "for side in ['left', 'right']:\n",
    "    for tck in track_files[side]:\n",
    "        to_check.append(tck)\n",
    "        \n",
    "for i in to_check:\n",
    "    print(i)\n",
    "    assert(i.is_file())"
   ]
  },
  {
   "cell_type": "code",
   "execution_count": 11,
   "id": "9e0497c2",
   "metadata": {},
   "outputs": [],
   "source": [
    "# define functions to generate tck for target\n",
    "\n",
    "def get_streams_matching_target(streams, atlas, target):\n",
    "    target_mask=wmaPyTools.roiTools.multiROIrequestToMask(atlas,target)\n",
    "    # return boolean mask for stream selection\n",
    "    return wmaPyTools.segmentationTools.segmentTractMultiROI(streams, \n",
    "                    [target_mask,], \n",
    "                    [True,], \n",
    "                    ['either_end',]) \n",
    "    \n",
    "def save_density_map(streams, ref_img, out_file):\n",
    "    density=utils.density_map(streams, ref_img.affine, ref_img.shape)\n",
    "    densityNifti = nib.nifti1.Nifti1Image(density, ref_img.affine, ref_img.header)\n",
    "    nib.save(densityNifti, out_file)\n",
    "    \n",
    "def save_streams_matching_target(streams, atlas, lookupTable, target, out_file):\n",
    "    strTarget = lookupTable.loc[target, 'LabelName:']\n",
    "    print('target label is: %s (%s)' % (target, strTarget))\n",
    "    #out_file = Path(save_dir) / ('track_%04d_%s' % (target,strTarget)) #no file extension yet, add it later\n",
    "    print(out_file)\n",
    "    # get boolean vector of matching streams\n",
    "    targetBool = get_streams_matching_target(streams, atlas, target)\n",
    "    streams = streams[targetBool]\n",
    "    \n",
    "    #dipy quickbundles\n",
    "    streams = streams[bundle(streams)]\n",
    "    \n",
    "    #save *.tck tractogram\n",
    "    wmaPyTools.streamlineTools.stubbornSaveTractogram(streams,\n",
    "        savePath=str(out_file.with_suffix('.tck')))\n",
    "    # save nifti density map\n",
    "    save_density_map(streams, atlas, out_file.with_suffix('.nii.gz'))\n",
    "    return targetBool\n",
    "    \n",
    "#targetBool = save_streams_matching_target(streams,inflatedAtlas, lookupTable, iTarget, saveFigDir)\n",
    "#wmaPyTools.streamlineTools.stubbornSaveTractogram(streams[targetBool], \n",
    "#    savePath=str(saveFigDir / '1002_test.tck' )"
   ]
  },
  {
   "cell_type": "code",
   "execution_count": 12,
   "id": "1325fbc0",
   "metadata": {},
   "outputs": [],
   "source": [
    "#apply the initial culling, to remove extraneous streamlines \n",
    "#first requires doing a DIPY quickbundling\n",
    "def bundle(streams):\n",
    "    print(\"DIPY quickbundle\")\n",
    "    clusters=wmaPyTools.streamlineTools.quickbundlesClusters(streams, thresholds = [30,20,10], nb_pts=100)\n",
    "\n",
    "    #use those clusters to identify the streamlines to be culled\n",
    "    print(\"identify streamlines to remove\")\n",
    "    survivingStreamsIndices, culledStreamIndicies=wmaPyTools.streamlineTools.cullViaClusters(clusters,streams,3)\n",
    "    #convert survivingStreamsIndicies into a bool vec\n",
    "    survivingStreamsBoolVec=np.zeros(len(streams),dtype=bool)\n",
    "    survivingStreamsBoolVec[survivingStreamsIndices]=True\n",
    "    \n",
    "    print('%d of %d streams survived' % (len(survivingStreamsIndices), len(survivingStreamsBoolVec)))\n",
    "    \n",
    "    return survivingStreamsBoolVec"
   ]
  },
  {
   "cell_type": "code",
   "execution_count": 13,
   "id": "274bfe54",
   "metadata": {},
   "outputs": [],
   "source": [
    "# load atlas-baced segmentation (Dan calls it a parcellation)\n",
    "parcellaton=nib.load(parcellationPath)"
   ]
  },
  {
   "cell_type": "code",
   "execution_count": 14,
   "id": "7f9d10b7",
   "metadata": {},
   "outputs": [],
   "source": [
    "# load T1 anatomical image\n",
    "refT1=nib.load(refT1Path)"
   ]
  },
  {
   "cell_type": "code",
   "execution_count": 15,
   "id": "ff76a5d2",
   "metadata": {},
   "outputs": [],
   "source": [
    "# load Freesurfer labels\n",
    "lookupTable=pd.read_csv(lutPath,index_col='#No.')"
   ]
  },
  {
   "cell_type": "code",
   "execution_count": 17,
   "id": "21dfbf2e",
   "metadata": {
    "scrolled": true
   },
   "outputs": [
    {
     "name": "stdout",
     "output_type": "stream",
     "text": [
      "/home/udall-raid2/DBS_collaborators/DBS_for_sreta001/DBS-OCD/SLEEP116V2/Code/subsegment/output/aparc+aseg_inflated.nii.gz\n",
      "1034052 labels changed from 2 to 0\n",
      "962710 labels changed from 41 to 0\n",
      "inflation iteration 1\n"
     ]
    },
    {
     "name": "stderr",
     "output_type": "stream",
     "text": [
      "100%|███████████████████████████████| 1132905/1132905 [02:09<00:00, 8764.38it/s]\n"
     ]
    },
    {
     "name": "stdout",
     "output_type": "stream",
     "text": [
      "inflation iteration 2\n"
     ]
    },
    {
     "name": "stderr",
     "output_type": "stream",
     "text": [
      "100%|███████████████████████████████| 1124385/1124385 [02:07<00:00, 8793.44it/s]\n"
     ]
    }
   ],
   "source": [
    "#perform inflate & deIsland of input parcellation\n",
    "inflated_atlas_file = saveFigDir / Path(Path(parcellationPath.stem).stem + '_inflated').with_suffix('.nii.gz')\n",
    "print(inflated_atlas_file)\n",
    "inflatedAtlas,deIslandReport,inflationReport= wmaPyTools.roiTools.preProcParc(parcellaton,deIslandBool=True,inflateIter=2,retainOrigBorders=False,maintainIslandsLabels=None,erodeLabels=[2,41])    \n",
    "nib.save(inflatedAtlas,filename=inflated_atlas_file)"
   ]
  },
  {
   "cell_type": "code",
   "execution_count": 18,
   "id": "bd264b02",
   "metadata": {
    "scrolled": true
   },
   "outputs": [
    {
     "name": "stdout",
     "output_type": "stream",
     "text": [
      "Load tck /home/udall-raid2/DBS_collaborators/DBS_for_sreta001/DBS-OCD/SLEEP116V2/Code/subsegment/indata/inferior_aLIC_left.tck\n",
      "orienting streamlines\n"
     ]
    },
    {
     "name": "stderr",
     "output_type": "stream",
     "text": [
      "100%|██████████████████████████████████| 210884/210884 [03:52<00:00, 907.60it/s]\n"
     ]
    },
    {
     "name": "stdout",
     "output_type": "stream",
     "text": [
      "104912 of 210884 streamlines flipped\n",
      "saving oriented tck /home/udall-raid2/DBS_collaborators/DBS_for_sreta001/DBS-OCD/SLEEP116V2/Code/subsegment/output/inferior_aLIC_left_oriented.tck\n",
      "saving density map /home/udall-raid2/DBS_collaborators/DBS_for_sreta001/DBS-OCD/SLEEP116V2/Code/subsegment/output/inferior_aLIC_left.nii.gz\n",
      "Starting processing for inferior_aLIC_left_1002_ctx-lh-caudalanteriorcingulate\n",
      "target label is: 1002 (ctx-lh-caudalanteriorcingulate)\n",
      "/home/udall-raid2/DBS_collaborators/DBS_for_sreta001/DBS-OCD/SLEEP116V2/Code/subsegment/output/inferior_aLIC_left_1002_ctx-lh-caudalanteriorcingulate\n",
      "volumes of input ROIs to check [5934.]\n",
      "volumes of output ROIs to check [5934]\n",
      "   roiVolumes  inclusionCriteria  operations\n",
      "0        5934               True  either_end\n"
     ]
    },
    {
     "name": "stderr",
     "output_type": "stream",
     "text": [
      "/home/udall-raid2/DBS_collaborators/DBS_for_sreta001/DBS-OCD/SLEEP116V2/Code/subsegment/wma_pyTools/wmaPyTools/segmentationTools.py:830: FutureWarning: Image data has type int64, which may cause incompatibilities with other tools. This will error in NiBabel 5.0. This warning can be silenced by passing the dtype argument to Nifti1Image().\n",
      "  tractMask=nib.Nifti1Image(np.greater(tractMask,0).astype(int), affine=maskNifti.affine)\n"
     ]
    },
    {
     "name": "stdout",
     "output_type": "stream",
     "text": [
      "Tractogram subseting complete in 5.0481333769998855, 1120 of 210884 within mask boundaries\n",
      "Tractogram segmentation complete in 0.14991869599998608, 390 of 210884 met INCLUSION criterion\n",
      "DIPY quickbundle\n",
      "identify streamlines to remove\n",
      "382 of 390 streams survived\n",
      "Starting processing for inferior_aLIC_left_1026_ctx-lh-rostralanteriorcingulate\n",
      "target label is: 1026 (ctx-lh-rostralanteriorcingulate)\n",
      "/home/udall-raid2/DBS_collaborators/DBS_for_sreta001/DBS-OCD/SLEEP116V2/Code/subsegment/output/inferior_aLIC_left_1026_ctx-lh-rostralanteriorcingulate\n",
      "volumes of input ROIs to check [10100.]\n",
      "volumes of output ROIs to check [10100]\n",
      "   roiVolumes  inclusionCriteria  operations\n",
      "0       10100               True  either_end\n"
     ]
    },
    {
     "name": "stderr",
     "output_type": "stream",
     "text": [
      "/home/udall-raid2/DBS_collaborators/DBS_for_sreta001/DBS-OCD/SLEEP116V2/Code/subsegment/wma_pyTools/wmaPyTools/segmentationTools.py:830: FutureWarning: Image data has type int64, which may cause incompatibilities with other tools. This will error in NiBabel 5.0. This warning can be silenced by passing the dtype argument to Nifti1Image().\n",
      "  tractMask=nib.Nifti1Image(np.greater(tractMask,0).astype(int), affine=maskNifti.affine)\n"
     ]
    },
    {
     "name": "stdout",
     "output_type": "stream",
     "text": [
      "Tractogram subseting complete in 5.178498766000075, 3259 of 210884 within mask boundaries\n",
      "Tractogram segmentation complete in 0.2755103629999667, 1215 of 210884 met INCLUSION criterion\n",
      "DIPY quickbundle\n",
      "identify streamlines to remove\n",
      "1197 of 1215 streams survived\n",
      "Starting processing for inferior_aLIC_left_1012_ctx-lh-lateralorbitofrontal\n",
      "target label is: 1012 (ctx-lh-lateralorbitofrontal)\n",
      "/home/udall-raid2/DBS_collaborators/DBS_for_sreta001/DBS-OCD/SLEEP116V2/Code/subsegment/output/inferior_aLIC_left_1012_ctx-lh-lateralorbitofrontal\n",
      "volumes of input ROIs to check [32971.]\n",
      "volumes of output ROIs to check [32971]\n",
      "   roiVolumes  inclusionCriteria  operations\n",
      "0       32971               True  either_end\n"
     ]
    },
    {
     "name": "stderr",
     "output_type": "stream",
     "text": [
      "/home/udall-raid2/DBS_collaborators/DBS_for_sreta001/DBS-OCD/SLEEP116V2/Code/subsegment/wma_pyTools/wmaPyTools/segmentationTools.py:830: FutureWarning: Image data has type int64, which may cause incompatibilities with other tools. This will error in NiBabel 5.0. This warning can be silenced by passing the dtype argument to Nifti1Image().\n",
      "  tractMask=nib.Nifti1Image(np.greater(tractMask,0).astype(int), affine=maskNifti.affine)\n"
     ]
    },
    {
     "name": "stdout",
     "output_type": "stream",
     "text": [
      "Tractogram subseting complete in 5.436984475999907, 17689 of 210884 within mask boundaries\n",
      "Tractogram segmentation complete in 1.156624352000108, 832 of 210884 met INCLUSION criterion\n",
      "DIPY quickbundle\n",
      "identify streamlines to remove\n",
      "809 of 832 streams survived\n",
      "Starting processing for inferior_aLIC_left_1020_ctx-lh-parstriangularis\n",
      "target label is: 1020 (ctx-lh-parstriangularis)\n",
      "/home/udall-raid2/DBS_collaborators/DBS_for_sreta001/DBS-OCD/SLEEP116V2/Code/subsegment/output/inferior_aLIC_left_1020_ctx-lh-parstriangularis\n",
      "volumes of input ROIs to check [18061.]\n",
      "volumes of output ROIs to check [18061]\n",
      "   roiVolumes  inclusionCriteria  operations\n",
      "0       18061               True  either_end\n"
     ]
    },
    {
     "name": "stderr",
     "output_type": "stream",
     "text": [
      "/home/udall-raid2/DBS_collaborators/DBS_for_sreta001/DBS-OCD/SLEEP116V2/Code/subsegment/wma_pyTools/wmaPyTools/segmentationTools.py:830: FutureWarning: Image data has type int64, which may cause incompatibilities with other tools. This will error in NiBabel 5.0. This warning can be silenced by passing the dtype argument to Nifti1Image().\n",
      "  tractMask=nib.Nifti1Image(np.greater(tractMask,0).astype(int), affine=maskNifti.affine)\n"
     ]
    },
    {
     "name": "stdout",
     "output_type": "stream",
     "text": [
      "Tractogram subseting complete in 5.456892837999931, 31079 of 210884 within mask boundaries\n",
      "Tractogram segmentation complete in 5.7578084649999255, 13148 of 210884 met INCLUSION criterion\n",
      "DIPY quickbundle\n",
      "identify streamlines to remove\n",
      "13111 of 13148 streams survived\n",
      "Starting processing for inferior_aLIC_left_1028_ctx-lh-superiorfrontal\n",
      "target label is: 1028 (ctx-lh-superiorfrontal)\n",
      "/home/udall-raid2/DBS_collaborators/DBS_for_sreta001/DBS-OCD/SLEEP116V2/Code/subsegment/output/inferior_aLIC_left_1028_ctx-lh-superiorfrontal\n",
      "volumes of input ROIs to check [114888.]\n",
      "volumes of output ROIs to check [114888]\n",
      "   roiVolumes  inclusionCriteria  operations\n",
      "0      114888               True  either_end\n"
     ]
    },
    {
     "name": "stderr",
     "output_type": "stream",
     "text": [
      "/home/udall-raid2/DBS_collaborators/DBS_for_sreta001/DBS-OCD/SLEEP116V2/Code/subsegment/wma_pyTools/wmaPyTools/segmentationTools.py:830: FutureWarning: Image data has type int64, which may cause incompatibilities with other tools. This will error in NiBabel 5.0. This warning can be silenced by passing the dtype argument to Nifti1Image().\n",
      "  tractMask=nib.Nifti1Image(np.greater(tractMask,0).astype(int), affine=maskNifti.affine)\n"
     ]
    },
    {
     "name": "stdout",
     "output_type": "stream",
     "text": [
      "Tractogram subseting complete in 5.384147979999852, 125988 of 210884 within mask boundaries\n",
      "Tractogram segmentation complete in 74.48836030799998, 84639 of 210884 met INCLUSION criterion\n",
      "DIPY quickbundle\n",
      "identify streamlines to remove\n",
      "84534 of 84639 streams survived\n",
      "Starting processing for inferior_aLIC_left_1003_ctx-lh-caudalmiddlefrontal\n",
      "target label is: 1003 (ctx-lh-caudalmiddlefrontal)\n",
      "/home/udall-raid2/DBS_collaborators/DBS_for_sreta001/DBS-OCD/SLEEP116V2/Code/subsegment/output/inferior_aLIC_left_1003_ctx-lh-caudalmiddlefrontal\n",
      "volumes of input ROIs to check [23500.]\n",
      "volumes of output ROIs to check [23500]\n",
      "   roiVolumes  inclusionCriteria  operations\n",
      "0       23500               True  either_end\n"
     ]
    },
    {
     "name": "stderr",
     "output_type": "stream",
     "text": [
      "/home/udall-raid2/DBS_collaborators/DBS_for_sreta001/DBS-OCD/SLEEP116V2/Code/subsegment/wma_pyTools/wmaPyTools/segmentationTools.py:830: FutureWarning: Image data has type int64, which may cause incompatibilities with other tools. This will error in NiBabel 5.0. This warning can be silenced by passing the dtype argument to Nifti1Image().\n",
      "  tractMask=nib.Nifti1Image(np.greater(tractMask,0).astype(int), affine=maskNifti.affine)\n"
     ]
    },
    {
     "name": "stdout",
     "output_type": "stream",
     "text": [
      "Tractogram subseting complete in 5.494156576000023, 40139 of 210884 within mask boundaries\n",
      "Tractogram segmentation complete in 7.569030335999969, 20350 of 210884 met INCLUSION criterion\n",
      "DIPY quickbundle\n",
      "identify streamlines to remove\n",
      "20314 of 20350 streams survived\n",
      "Starting processing for inferior_aLIC_left_1014_ctx-lh-medialorbitofrontal\n",
      "target label is: 1014 (ctx-lh-medialorbitofrontal)\n",
      "/home/udall-raid2/DBS_collaborators/DBS_for_sreta001/DBS-OCD/SLEEP116V2/Code/subsegment/output/inferior_aLIC_left_1014_ctx-lh-medialorbitofrontal\n",
      "volumes of input ROIs to check [25600.]\n",
      "volumes of output ROIs to check [25600]\n",
      "   roiVolumes  inclusionCriteria  operations\n",
      "0       25600               True  either_end\n"
     ]
    },
    {
     "name": "stderr",
     "output_type": "stream",
     "text": [
      "/home/udall-raid2/DBS_collaborators/DBS_for_sreta001/DBS-OCD/SLEEP116V2/Code/subsegment/wma_pyTools/wmaPyTools/segmentationTools.py:830: FutureWarning: Image data has type int64, which may cause incompatibilities with other tools. This will error in NiBabel 5.0. This warning can be silenced by passing the dtype argument to Nifti1Image().\n",
      "  tractMask=nib.Nifti1Image(np.greater(tractMask,0).astype(int), affine=maskNifti.affine)\n"
     ]
    },
    {
     "name": "stdout",
     "output_type": "stream",
     "text": [
      "Tractogram subseting complete in 5.4430862930000785, 12859 of 210884 within mask boundaries\n",
      "Tractogram segmentation complete in 1.0989213079999445, 4472 of 210884 met INCLUSION criterion\n",
      "DIPY quickbundle\n",
      "identify streamlines to remove\n",
      "4441 of 4472 streams survived\n",
      "Starting processing for inferior_aLIC_left_1019_ctx-lh-parsorbitalis\n",
      "target label is: 1019 (ctx-lh-parsorbitalis)\n",
      "/home/udall-raid2/DBS_collaborators/DBS_for_sreta001/DBS-OCD/SLEEP116V2/Code/subsegment/output/inferior_aLIC_left_1019_ctx-lh-parsorbitalis\n",
      "volumes of input ROIs to check [13772.]\n",
      "volumes of output ROIs to check [13772]\n",
      "   roiVolumes  inclusionCriteria  operations\n",
      "0       13772               True  either_end\n"
     ]
    },
    {
     "name": "stderr",
     "output_type": "stream",
     "text": [
      "/home/udall-raid2/DBS_collaborators/DBS_for_sreta001/DBS-OCD/SLEEP116V2/Code/subsegment/wma_pyTools/wmaPyTools/segmentationTools.py:830: FutureWarning: Image data has type int64, which may cause incompatibilities with other tools. This will error in NiBabel 5.0. This warning can be silenced by passing the dtype argument to Nifti1Image().\n",
      "  tractMask=nib.Nifti1Image(np.greater(tractMask,0).astype(int), affine=maskNifti.affine)\n"
     ]
    },
    {
     "name": "stdout",
     "output_type": "stream",
     "text": [
      "Tractogram subseting complete in 5.355730282999957, 13015 of 210884 within mask boundaries\n",
      "Tractogram segmentation complete in 1.1310439090000273, 7166 of 210884 met INCLUSION criterion\n",
      "DIPY quickbundle\n",
      "identify streamlines to remove\n",
      "7149 of 7166 streams survived\n",
      "Starting processing for inferior_aLIC_left_1027_ctx-lh-rostralmiddlefrontal\n",
      "target label is: 1027 (ctx-lh-rostralmiddlefrontal)\n",
      "/home/udall-raid2/DBS_collaborators/DBS_for_sreta001/DBS-OCD/SLEEP116V2/Code/subsegment/output/inferior_aLIC_left_1027_ctx-lh-rostralmiddlefrontal\n",
      "volumes of input ROIs to check [79470.]\n",
      "volumes of output ROIs to check [79470]\n",
      "   roiVolumes  inclusionCriteria  operations\n",
      "0       79470               True  either_end\n"
     ]
    },
    {
     "name": "stderr",
     "output_type": "stream",
     "text": [
      "/home/udall-raid2/DBS_collaborators/DBS_for_sreta001/DBS-OCD/SLEEP116V2/Code/subsegment/wma_pyTools/wmaPyTools/segmentationTools.py:830: FutureWarning: Image data has type int64, which may cause incompatibilities with other tools. This will error in NiBabel 5.0. This warning can be silenced by passing the dtype argument to Nifti1Image().\n",
      "  tractMask=nib.Nifti1Image(np.greater(tractMask,0).astype(int), affine=maskNifti.affine)\n"
     ]
    },
    {
     "name": "stdout",
     "output_type": "stream",
     "text": [
      "Tractogram subseting complete in 5.3922410949999176, 81894 of 210884 within mask boundaries\n",
      "Tractogram segmentation complete in 45.24475100799987, 32033 of 210884 met INCLUSION criterion\n",
      "DIPY quickbundle\n",
      "identify streamlines to remove\n",
      "31958 of 32033 streams survived\n",
      "Load tck /home/udall-raid2/DBS_collaborators/DBS_for_sreta001/DBS-OCD/SLEEP116V2/Code/subsegment/indata/superior_aLIC_left.tck\n",
      "orienting streamlines\n"
     ]
    },
    {
     "name": "stderr",
     "output_type": "stream",
     "text": [
      "100%|█████████████████████████████████| 323649/323649 [05:19<00:00, 1013.80it/s]\n"
     ]
    },
    {
     "name": "stdout",
     "output_type": "stream",
     "text": [
      "161197 of 323649 streamlines flipped\n",
      "saving oriented tck /home/udall-raid2/DBS_collaborators/DBS_for_sreta001/DBS-OCD/SLEEP116V2/Code/subsegment/output/superior_aLIC_left_oriented.tck\n",
      "saving density map /home/udall-raid2/DBS_collaborators/DBS_for_sreta001/DBS-OCD/SLEEP116V2/Code/subsegment/output/superior_aLIC_left.nii.gz\n",
      "Starting processing for superior_aLIC_left_1002_ctx-lh-caudalanteriorcingulate\n",
      "target label is: 1002 (ctx-lh-caudalanteriorcingulate)\n",
      "/home/udall-raid2/DBS_collaborators/DBS_for_sreta001/DBS-OCD/SLEEP116V2/Code/subsegment/output/superior_aLIC_left_1002_ctx-lh-caudalanteriorcingulate\n",
      "volumes of input ROIs to check [5934.]\n",
      "volumes of output ROIs to check [5934]\n",
      "   roiVolumes  inclusionCriteria  operations\n",
      "0        5934               True  either_end\n"
     ]
    },
    {
     "name": "stderr",
     "output_type": "stream",
     "text": [
      "/home/udall-raid2/DBS_collaborators/DBS_for_sreta001/DBS-OCD/SLEEP116V2/Code/subsegment/wma_pyTools/wmaPyTools/segmentationTools.py:830: FutureWarning: Image data has type int64, which may cause incompatibilities with other tools. This will error in NiBabel 5.0. This warning can be silenced by passing the dtype argument to Nifti1Image().\n",
      "  tractMask=nib.Nifti1Image(np.greater(tractMask,0).astype(int), affine=maskNifti.affine)\n"
     ]
    },
    {
     "name": "stdout",
     "output_type": "stream",
     "text": [
      "Tractogram subseting complete in 8.165414357999907, 1530 of 323649 within mask boundaries\n",
      "Tractogram segmentation complete in 0.17519236599991928, 539 of 323649 met INCLUSION criterion\n",
      "DIPY quickbundle\n",
      "identify streamlines to remove\n",
      "530 of 539 streams survived\n",
      "Starting processing for superior_aLIC_left_1026_ctx-lh-rostralanteriorcingulate\n",
      "target label is: 1026 (ctx-lh-rostralanteriorcingulate)\n",
      "/home/udall-raid2/DBS_collaborators/DBS_for_sreta001/DBS-OCD/SLEEP116V2/Code/subsegment/output/superior_aLIC_left_1026_ctx-lh-rostralanteriorcingulate\n",
      "volumes of input ROIs to check [10100.]\n",
      "volumes of output ROIs to check [10100]\n",
      "   roiVolumes  inclusionCriteria  operations\n",
      "0       10100               True  either_end\n"
     ]
    },
    {
     "name": "stderr",
     "output_type": "stream",
     "text": [
      "/home/udall-raid2/DBS_collaborators/DBS_for_sreta001/DBS-OCD/SLEEP116V2/Code/subsegment/wma_pyTools/wmaPyTools/segmentationTools.py:830: FutureWarning: Image data has type int64, which may cause incompatibilities with other tools. This will error in NiBabel 5.0. This warning can be silenced by passing the dtype argument to Nifti1Image().\n",
      "  tractMask=nib.Nifti1Image(np.greater(tractMask,0).astype(int), affine=maskNifti.affine)\n"
     ]
    },
    {
     "name": "stdout",
     "output_type": "stream",
     "text": [
      "Tractogram subseting complete in 8.22050815800003, 279 of 323649 within mask boundaries\n",
      "Tractogram segmentation complete in 0.12601834699989922, 95 of 323649 met INCLUSION criterion\n",
      "DIPY quickbundle\n",
      "identify streamlines to remove\n",
      "88 of 95 streams survived\n",
      "Starting processing for superior_aLIC_left_1012_ctx-lh-lateralorbitofrontal\n",
      "target label is: 1012 (ctx-lh-lateralorbitofrontal)\n",
      "/home/udall-raid2/DBS_collaborators/DBS_for_sreta001/DBS-OCD/SLEEP116V2/Code/subsegment/output/superior_aLIC_left_1012_ctx-lh-lateralorbitofrontal\n",
      "volumes of input ROIs to check [32971.]\n",
      "volumes of output ROIs to check [32971]\n",
      "   roiVolumes  inclusionCriteria  operations\n",
      "0       32971               True  either_end\n"
     ]
    },
    {
     "name": "stderr",
     "output_type": "stream",
     "text": [
      "/home/udall-raid2/DBS_collaborators/DBS_for_sreta001/DBS-OCD/SLEEP116V2/Code/subsegment/wma_pyTools/wmaPyTools/segmentationTools.py:830: FutureWarning: Image data has type int64, which may cause incompatibilities with other tools. This will error in NiBabel 5.0. This warning can be silenced by passing the dtype argument to Nifti1Image().\n",
      "  tractMask=nib.Nifti1Image(np.greater(tractMask,0).astype(int), affine=maskNifti.affine)\n"
     ]
    },
    {
     "name": "stdout",
     "output_type": "stream",
     "text": [
      "Tractogram subseting complete in 8.055223235000085, 13876 of 323649 within mask boundaries\n",
      "Tractogram segmentation complete in 0.785626584000056, 524 of 323649 met INCLUSION criterion\n",
      "DIPY quickbundle\n",
      "identify streamlines to remove\n",
      "508 of 524 streams survived\n",
      "Starting processing for superior_aLIC_left_1020_ctx-lh-parstriangularis\n",
      "target label is: 1020 (ctx-lh-parstriangularis)\n",
      "/home/udall-raid2/DBS_collaborators/DBS_for_sreta001/DBS-OCD/SLEEP116V2/Code/subsegment/output/superior_aLIC_left_1020_ctx-lh-parstriangularis\n",
      "volumes of input ROIs to check [18061.]\n",
      "volumes of output ROIs to check [18061]\n",
      "   roiVolumes  inclusionCriteria  operations\n",
      "0       18061               True  either_end\n"
     ]
    },
    {
     "name": "stderr",
     "output_type": "stream",
     "text": [
      "/home/udall-raid2/DBS_collaborators/DBS_for_sreta001/DBS-OCD/SLEEP116V2/Code/subsegment/wma_pyTools/wmaPyTools/segmentationTools.py:830: FutureWarning: Image data has type int64, which may cause incompatibilities with other tools. This will error in NiBabel 5.0. This warning can be silenced by passing the dtype argument to Nifti1Image().\n",
      "  tractMask=nib.Nifti1Image(np.greater(tractMask,0).astype(int), affine=maskNifti.affine)\n"
     ]
    },
    {
     "name": "stdout",
     "output_type": "stream",
     "text": [
      "Tractogram subseting complete in 8.295815566000329, 42920 of 323649 within mask boundaries\n",
      "Tractogram segmentation complete in 7.433514020000075, 14915 of 323649 met INCLUSION criterion\n",
      "DIPY quickbundle\n",
      "identify streamlines to remove\n",
      "14892 of 14915 streams survived\n",
      "Starting processing for superior_aLIC_left_1028_ctx-lh-superiorfrontal\n",
      "target label is: 1028 (ctx-lh-superiorfrontal)\n",
      "/home/udall-raid2/DBS_collaborators/DBS_for_sreta001/DBS-OCD/SLEEP116V2/Code/subsegment/output/superior_aLIC_left_1028_ctx-lh-superiorfrontal\n",
      "volumes of input ROIs to check [114888.]\n",
      "volumes of output ROIs to check [114888]\n",
      "   roiVolumes  inclusionCriteria  operations\n",
      "0      114888               True  either_end\n"
     ]
    },
    {
     "name": "stderr",
     "output_type": "stream",
     "text": [
      "/home/udall-raid2/DBS_collaborators/DBS_for_sreta001/DBS-OCD/SLEEP116V2/Code/subsegment/wma_pyTools/wmaPyTools/segmentationTools.py:830: FutureWarning: Image data has type int64, which may cause incompatibilities with other tools. This will error in NiBabel 5.0. This warning can be silenced by passing the dtype argument to Nifti1Image().\n",
      "  tractMask=nib.Nifti1Image(np.greater(tractMask,0).astype(int), affine=maskNifti.affine)\n"
     ]
    },
    {
     "name": "stdout",
     "output_type": "stream",
     "text": [
      "Tractogram subseting complete in 8.9057526710003, 260874 of 323649 within mask boundaries\n",
      "Tractogram segmentation complete in 165.78104514100005, 132294 of 323649 met INCLUSION criterion\n",
      "DIPY quickbundle\n",
      "identify streamlines to remove\n",
      "132202 of 132294 streams survived\n",
      "Starting processing for superior_aLIC_left_1003_ctx-lh-caudalmiddlefrontal\n",
      "target label is: 1003 (ctx-lh-caudalmiddlefrontal)\n",
      "/home/udall-raid2/DBS_collaborators/DBS_for_sreta001/DBS-OCD/SLEEP116V2/Code/subsegment/output/superior_aLIC_left_1003_ctx-lh-caudalmiddlefrontal\n",
      "volumes of input ROIs to check [23500.]\n",
      "volumes of output ROIs to check [23500]\n",
      "   roiVolumes  inclusionCriteria  operations\n",
      "0       23500               True  either_end\n"
     ]
    },
    {
     "name": "stderr",
     "output_type": "stream",
     "text": [
      "/home/udall-raid2/DBS_collaborators/DBS_for_sreta001/DBS-OCD/SLEEP116V2/Code/subsegment/wma_pyTools/wmaPyTools/segmentationTools.py:830: FutureWarning: Image data has type int64, which may cause incompatibilities with other tools. This will error in NiBabel 5.0. This warning can be silenced by passing the dtype argument to Nifti1Image().\n",
      "  tractMask=nib.Nifti1Image(np.greater(tractMask,0).astype(int), affine=maskNifti.affine)\n"
     ]
    },
    {
     "name": "stdout",
     "output_type": "stream",
     "text": [
      "Tractogram subseting complete in 9.007353211999998, 74255 of 323649 within mask boundaries\n",
      "Tractogram segmentation complete in 14.870330451999962, 34240 of 323649 met INCLUSION criterion\n",
      "DIPY quickbundle\n",
      "identify streamlines to remove\n",
      "34210 of 34240 streams survived\n",
      "Starting processing for superior_aLIC_left_1014_ctx-lh-medialorbitofrontal\n",
      "target label is: 1014 (ctx-lh-medialorbitofrontal)\n",
      "/home/udall-raid2/DBS_collaborators/DBS_for_sreta001/DBS-OCD/SLEEP116V2/Code/subsegment/output/superior_aLIC_left_1014_ctx-lh-medialorbitofrontal\n",
      "volumes of input ROIs to check [25600.]\n",
      "volumes of output ROIs to check [25600]\n",
      "   roiVolumes  inclusionCriteria  operations\n",
      "0       25600               True  either_end\n"
     ]
    },
    {
     "name": "stderr",
     "output_type": "stream",
     "text": [
      "/home/udall-raid2/DBS_collaborators/DBS_for_sreta001/DBS-OCD/SLEEP116V2/Code/subsegment/wma_pyTools/wmaPyTools/segmentationTools.py:830: FutureWarning: Image data has type int64, which may cause incompatibilities with other tools. This will error in NiBabel 5.0. This warning can be silenced by passing the dtype argument to Nifti1Image().\n",
      "  tractMask=nib.Nifti1Image(np.greater(tractMask,0).astype(int), affine=maskNifti.affine)\n"
     ]
    },
    {
     "name": "stdout",
     "output_type": "stream",
     "text": [
      "Tractogram subseting complete in 8.942121549000149, 1201 of 323649 within mask boundaries\n",
      "Tractogram segmentation complete in 0.18683090700005778, 196 of 323649 met INCLUSION criterion\n",
      "DIPY quickbundle\n",
      "identify streamlines to remove\n",
      "188 of 196 streams survived\n",
      "Starting processing for superior_aLIC_left_1019_ctx-lh-parsorbitalis\n",
      "target label is: 1019 (ctx-lh-parsorbitalis)\n",
      "/home/udall-raid2/DBS_collaborators/DBS_for_sreta001/DBS-OCD/SLEEP116V2/Code/subsegment/output/superior_aLIC_left_1019_ctx-lh-parsorbitalis\n",
      "volumes of input ROIs to check [13772.]\n",
      "volumes of output ROIs to check [13772]\n",
      "   roiVolumes  inclusionCriteria  operations\n",
      "0       13772               True  either_end\n"
     ]
    },
    {
     "name": "stderr",
     "output_type": "stream",
     "text": [
      "/home/udall-raid2/DBS_collaborators/DBS_for_sreta001/DBS-OCD/SLEEP116V2/Code/subsegment/wma_pyTools/wmaPyTools/segmentationTools.py:830: FutureWarning: Image data has type int64, which may cause incompatibilities with other tools. This will error in NiBabel 5.0. This warning can be silenced by passing the dtype argument to Nifti1Image().\n",
      "  tractMask=nib.Nifti1Image(np.greater(tractMask,0).astype(int), affine=maskNifti.affine)\n"
     ]
    },
    {
     "name": "stdout",
     "output_type": "stream",
     "text": [
      "Tractogram subseting complete in 8.800843403000272, 7837 of 323649 within mask boundaries\n",
      "Tractogram segmentation complete in 0.7750624010000138, 3538 of 323649 met INCLUSION criterion\n",
      "DIPY quickbundle\n",
      "identify streamlines to remove\n",
      "3519 of 3538 streams survived\n",
      "Starting processing for superior_aLIC_left_1027_ctx-lh-rostralmiddlefrontal\n",
      "target label is: 1027 (ctx-lh-rostralmiddlefrontal)\n",
      "/home/udall-raid2/DBS_collaborators/DBS_for_sreta001/DBS-OCD/SLEEP116V2/Code/subsegment/output/superior_aLIC_left_1027_ctx-lh-rostralmiddlefrontal\n",
      "volumes of input ROIs to check [79470.]\n",
      "volumes of output ROIs to check [79470]\n",
      "   roiVolumes  inclusionCriteria  operations\n",
      "0       79470               True  either_end\n"
     ]
    },
    {
     "name": "stderr",
     "output_type": "stream",
     "text": [
      "/home/udall-raid2/DBS_collaborators/DBS_for_sreta001/DBS-OCD/SLEEP116V2/Code/subsegment/wma_pyTools/wmaPyTools/segmentationTools.py:830: FutureWarning: Image data has type int64, which may cause incompatibilities with other tools. This will error in NiBabel 5.0. This warning can be silenced by passing the dtype argument to Nifti1Image().\n",
      "  tractMask=nib.Nifti1Image(np.greater(tractMask,0).astype(int), affine=maskNifti.affine)\n"
     ]
    },
    {
     "name": "stdout",
     "output_type": "stream",
     "text": [
      "Tractogram subseting complete in 8.455919907999942, 114132 of 323649 within mask boundaries\n",
      "Tractogram segmentation complete in 63.66934204900008, 47940 of 323649 met INCLUSION criterion\n",
      "DIPY quickbundle\n",
      "identify streamlines to remove\n",
      "47880 of 47940 streams survived\n",
      "Load tck /home/udall-raid2/DBS_collaborators/DBS_for_sreta001/DBS-OCD/SLEEP116V2/Code/subsegment/indata/inferior_aLIC_right.tck\n",
      "orienting streamlines\n"
     ]
    },
    {
     "name": "stderr",
     "output_type": "stream",
     "text": [
      "100%|██████████████████████████████████| 195004/195004 [04:27<00:00, 729.40it/s]\n"
     ]
    },
    {
     "name": "stdout",
     "output_type": "stream",
     "text": [
      "97426 of 195004 streamlines flipped\n",
      "saving oriented tck /home/udall-raid2/DBS_collaborators/DBS_for_sreta001/DBS-OCD/SLEEP116V2/Code/subsegment/output/inferior_aLIC_right_oriented.tck\n",
      "saving density map /home/udall-raid2/DBS_collaborators/DBS_for_sreta001/DBS-OCD/SLEEP116V2/Code/subsegment/output/inferior_aLIC_right.nii.gz\n",
      "Starting processing for inferior_aLIC_right_2002_ctx-rh-caudalanteriorcingulate\n",
      "target label is: 2002 (ctx-rh-caudalanteriorcingulate)\n",
      "/home/udall-raid2/DBS_collaborators/DBS_for_sreta001/DBS-OCD/SLEEP116V2/Code/subsegment/output/inferior_aLIC_right_2002_ctx-rh-caudalanteriorcingulate\n",
      "volumes of input ROIs to check [7424.]\n",
      "volumes of output ROIs to check [7424]\n",
      "   roiVolumes  inclusionCriteria  operations\n",
      "0        7424               True  either_end\n"
     ]
    },
    {
     "name": "stderr",
     "output_type": "stream",
     "text": [
      "/home/udall-raid2/DBS_collaborators/DBS_for_sreta001/DBS-OCD/SLEEP116V2/Code/subsegment/wma_pyTools/wmaPyTools/segmentationTools.py:830: FutureWarning: Image data has type int64, which may cause incompatibilities with other tools. This will error in NiBabel 5.0. This warning can be silenced by passing the dtype argument to Nifti1Image().\n",
      "  tractMask=nib.Nifti1Image(np.greater(tractMask,0).astype(int), affine=maskNifti.affine)\n"
     ]
    },
    {
     "name": "stdout",
     "output_type": "stream",
     "text": [
      "Tractogram subseting complete in 5.342299993999859, 1345 of 195004 within mask boundaries\n",
      "Tractogram segmentation complete in 0.17508528400003343, 376 of 195004 met INCLUSION criterion\n",
      "DIPY quickbundle\n",
      "identify streamlines to remove\n",
      "367 of 376 streams survived\n",
      "Starting processing for inferior_aLIC_right_2026_ctx-rh-rostralanteriorcingulate\n",
      "target label is: 2026 (ctx-rh-rostralanteriorcingulate)\n",
      "/home/udall-raid2/DBS_collaborators/DBS_for_sreta001/DBS-OCD/SLEEP116V2/Code/subsegment/output/inferior_aLIC_right_2026_ctx-rh-rostralanteriorcingulate\n",
      "volumes of input ROIs to check [7085.]\n",
      "volumes of output ROIs to check [7085]\n",
      "   roiVolumes  inclusionCriteria  operations\n",
      "0        7085               True  either_end\n"
     ]
    },
    {
     "name": "stderr",
     "output_type": "stream",
     "text": [
      "/home/udall-raid2/DBS_collaborators/DBS_for_sreta001/DBS-OCD/SLEEP116V2/Code/subsegment/wma_pyTools/wmaPyTools/segmentationTools.py:830: FutureWarning: Image data has type int64, which may cause incompatibilities with other tools. This will error in NiBabel 5.0. This warning can be silenced by passing the dtype argument to Nifti1Image().\n",
      "  tractMask=nib.Nifti1Image(np.greater(tractMask,0).astype(int), affine=maskNifti.affine)\n"
     ]
    },
    {
     "name": "stdout",
     "output_type": "stream",
     "text": [
      "Tractogram subseting complete in 5.248697016999813, 255 of 195004 within mask boundaries\n",
      "Tractogram segmentation complete in 0.12682890600035535, 113 of 195004 met INCLUSION criterion\n",
      "DIPY quickbundle\n",
      "identify streamlines to remove\n",
      "105 of 113 streams survived\n",
      "Starting processing for inferior_aLIC_right_2012_ctx-rh-lateralorbitofrontal\n",
      "target label is: 2012 (ctx-rh-lateralorbitofrontal)\n",
      "/home/udall-raid2/DBS_collaborators/DBS_for_sreta001/DBS-OCD/SLEEP116V2/Code/subsegment/output/inferior_aLIC_right_2012_ctx-rh-lateralorbitofrontal\n",
      "volumes of input ROIs to check [36282.]\n",
      "volumes of output ROIs to check [36282]\n",
      "   roiVolumes  inclusionCriteria  operations\n",
      "0       36282               True  either_end\n"
     ]
    },
    {
     "name": "stderr",
     "output_type": "stream",
     "text": [
      "/home/udall-raid2/DBS_collaborators/DBS_for_sreta001/DBS-OCD/SLEEP116V2/Code/subsegment/wma_pyTools/wmaPyTools/segmentationTools.py:830: FutureWarning: Image data has type int64, which may cause incompatibilities with other tools. This will error in NiBabel 5.0. This warning can be silenced by passing the dtype argument to Nifti1Image().\n",
      "  tractMask=nib.Nifti1Image(np.greater(tractMask,0).astype(int), affine=maskNifti.affine)\n"
     ]
    },
    {
     "name": "stdout",
     "output_type": "stream",
     "text": [
      "Tractogram subseting complete in 5.325963107000007, 11795 of 195004 within mask boundaries\n",
      "Tractogram segmentation complete in 0.9343930320001164, 847 of 195004 met INCLUSION criterion\n",
      "DIPY quickbundle\n",
      "identify streamlines to remove\n",
      "824 of 847 streams survived\n",
      "Starting processing for inferior_aLIC_right_2020_ctx-rh-parstriangularis\n",
      "target label is: 2020 (ctx-rh-parstriangularis)\n",
      "/home/udall-raid2/DBS_collaborators/DBS_for_sreta001/DBS-OCD/SLEEP116V2/Code/subsegment/output/inferior_aLIC_right_2020_ctx-rh-parstriangularis\n",
      "volumes of input ROIs to check [15198.]\n",
      "volumes of output ROIs to check [15198]\n",
      "   roiVolumes  inclusionCriteria  operations\n",
      "0       15198               True  either_end\n"
     ]
    },
    {
     "name": "stderr",
     "output_type": "stream",
     "text": [
      "/home/udall-raid2/DBS_collaborators/DBS_for_sreta001/DBS-OCD/SLEEP116V2/Code/subsegment/wma_pyTools/wmaPyTools/segmentationTools.py:830: FutureWarning: Image data has type int64, which may cause incompatibilities with other tools. This will error in NiBabel 5.0. This warning can be silenced by passing the dtype argument to Nifti1Image().\n",
      "  tractMask=nib.Nifti1Image(np.greater(tractMask,0).astype(int), affine=maskNifti.affine)\n"
     ]
    },
    {
     "name": "stdout",
     "output_type": "stream",
     "text": [
      "Tractogram subseting complete in 5.525583010999981, 21385 of 195004 within mask boundaries\n",
      "Tractogram segmentation complete in 5.243379813000047, 7174 of 195004 met INCLUSION criterion\n",
      "DIPY quickbundle\n",
      "identify streamlines to remove\n",
      "7135 of 7174 streams survived\n",
      "Starting processing for inferior_aLIC_right_2028_ctx-rh-superiorfrontal\n",
      "target label is: 2028 (ctx-rh-superiorfrontal)\n",
      "/home/udall-raid2/DBS_collaborators/DBS_for_sreta001/DBS-OCD/SLEEP116V2/Code/subsegment/output/inferior_aLIC_right_2028_ctx-rh-superiorfrontal\n",
      "volumes of input ROIs to check [108365.]\n",
      "volumes of output ROIs to check [108365]\n",
      "   roiVolumes  inclusionCriteria  operations\n",
      "0      108365               True  either_end\n"
     ]
    },
    {
     "name": "stderr",
     "output_type": "stream",
     "text": [
      "/home/udall-raid2/DBS_collaborators/DBS_for_sreta001/DBS-OCD/SLEEP116V2/Code/subsegment/wma_pyTools/wmaPyTools/segmentationTools.py:830: FutureWarning: Image data has type int64, which may cause incompatibilities with other tools. This will error in NiBabel 5.0. This warning can be silenced by passing the dtype argument to Nifti1Image().\n",
      "  tractMask=nib.Nifti1Image(np.greater(tractMask,0).astype(int), affine=maskNifti.affine)\n"
     ]
    },
    {
     "name": "stdout",
     "output_type": "stream",
     "text": [
      "Tractogram subseting complete in 5.461143825999898, 106740 of 195004 within mask boundaries\n",
      "Tractogram segmentation complete in 66.43418429300027, 73215 of 195004 met INCLUSION criterion\n",
      "DIPY quickbundle\n",
      "identify streamlines to remove\n",
      "73103 of 73215 streams survived\n",
      "Starting processing for inferior_aLIC_right_2003_ctx-rh-caudalmiddlefrontal\n",
      "target label is: 2003 (ctx-rh-caudalmiddlefrontal)\n",
      "/home/udall-raid2/DBS_collaborators/DBS_for_sreta001/DBS-OCD/SLEEP116V2/Code/subsegment/output/inferior_aLIC_right_2003_ctx-rh-caudalmiddlefrontal\n",
      "volumes of input ROIs to check [31475.]\n",
      "volumes of output ROIs to check [31475]\n",
      "   roiVolumes  inclusionCriteria  operations\n",
      "0       31475               True  either_end\n"
     ]
    },
    {
     "name": "stderr",
     "output_type": "stream",
     "text": [
      "/home/udall-raid2/DBS_collaborators/DBS_for_sreta001/DBS-OCD/SLEEP116V2/Code/subsegment/wma_pyTools/wmaPyTools/segmentationTools.py:830: FutureWarning: Image data has type int64, which may cause incompatibilities with other tools. This will error in NiBabel 5.0. This warning can be silenced by passing the dtype argument to Nifti1Image().\n",
      "  tractMask=nib.Nifti1Image(np.greater(tractMask,0).astype(int), affine=maskNifti.affine)\n"
     ]
    },
    {
     "name": "stdout",
     "output_type": "stream",
     "text": [
      "Tractogram subseting complete in 5.424655532000088, 50505 of 195004 within mask boundaries\n",
      "Tractogram segmentation complete in 14.629391978999593, 20513 of 195004 met INCLUSION criterion\n",
      "DIPY quickbundle\n",
      "identify streamlines to remove\n",
      "20466 of 20513 streams survived\n",
      "Starting processing for inferior_aLIC_right_2014_ctx-rh-medialorbitofrontal\n",
      "target label is: 2014 (ctx-rh-medialorbitofrontal)\n",
      "/home/udall-raid2/DBS_collaborators/DBS_for_sreta001/DBS-OCD/SLEEP116V2/Code/subsegment/output/inferior_aLIC_right_2014_ctx-rh-medialorbitofrontal\n",
      "volumes of input ROIs to check [25035.]\n",
      "volumes of output ROIs to check [25035]\n",
      "   roiVolumes  inclusionCriteria  operations\n",
      "0       25035               True  either_end\n"
     ]
    },
    {
     "name": "stderr",
     "output_type": "stream",
     "text": [
      "/home/udall-raid2/DBS_collaborators/DBS_for_sreta001/DBS-OCD/SLEEP116V2/Code/subsegment/wma_pyTools/wmaPyTools/segmentationTools.py:830: FutureWarning: Image data has type int64, which may cause incompatibilities with other tools. This will error in NiBabel 5.0. This warning can be silenced by passing the dtype argument to Nifti1Image().\n",
      "  tractMask=nib.Nifti1Image(np.greater(tractMask,0).astype(int), affine=maskNifti.affine)\n"
     ]
    },
    {
     "name": "stdout",
     "output_type": "stream",
     "text": [
      "Tractogram subseting complete in 5.375945026000409, 1283 of 195004 within mask boundaries\n",
      "Tractogram segmentation complete in 0.18104873599986604, 184 of 195004 met INCLUSION criterion\n",
      "DIPY quickbundle\n",
      "identify streamlines to remove\n",
      "166 of 184 streams survived\n",
      "Starting processing for inferior_aLIC_right_2019_ctx-rh-parsorbitalis\n",
      "target label is: 2019 (ctx-rh-parsorbitalis)\n",
      "/home/udall-raid2/DBS_collaborators/DBS_for_sreta001/DBS-OCD/SLEEP116V2/Code/subsegment/output/inferior_aLIC_right_2019_ctx-rh-parsorbitalis\n",
      "volumes of input ROIs to check [11144.]\n",
      "volumes of output ROIs to check [11144]\n",
      "   roiVolumes  inclusionCriteria  operations\n",
      "0       11144               True  either_end\n"
     ]
    },
    {
     "name": "stderr",
     "output_type": "stream",
     "text": [
      "/home/udall-raid2/DBS_collaborators/DBS_for_sreta001/DBS-OCD/SLEEP116V2/Code/subsegment/wma_pyTools/wmaPyTools/segmentationTools.py:830: FutureWarning: Image data has type int64, which may cause incompatibilities with other tools. This will error in NiBabel 5.0. This warning can be silenced by passing the dtype argument to Nifti1Image().\n",
      "  tractMask=nib.Nifti1Image(np.greater(tractMask,0).astype(int), affine=maskNifti.affine)\n"
     ]
    },
    {
     "name": "stdout",
     "output_type": "stream",
     "text": [
      "Tractogram subseting complete in 5.344915985000171, 8682 of 195004 within mask boundaries\n",
      "Tractogram segmentation complete in 0.9866565719999016, 4017 of 195004 met INCLUSION criterion\n",
      "DIPY quickbundle\n",
      "identify streamlines to remove\n",
      "3998 of 4017 streams survived\n",
      "Starting processing for inferior_aLIC_right_2027_ctx-rh-rostralmiddlefrontal\n",
      "target label is: 2027 (ctx-rh-rostralmiddlefrontal)\n",
      "/home/udall-raid2/DBS_collaborators/DBS_for_sreta001/DBS-OCD/SLEEP116V2/Code/subsegment/output/inferior_aLIC_right_2027_ctx-rh-rostralmiddlefrontal\n",
      "volumes of input ROIs to check [70395.]\n",
      "volumes of output ROIs to check [70395]\n",
      "   roiVolumes  inclusionCriteria  operations\n",
      "0       70395               True  either_end\n"
     ]
    },
    {
     "name": "stderr",
     "output_type": "stream",
     "text": [
      "/home/udall-raid2/DBS_collaborators/DBS_for_sreta001/DBS-OCD/SLEEP116V2/Code/subsegment/wma_pyTools/wmaPyTools/segmentationTools.py:830: FutureWarning: Image data has type int64, which may cause incompatibilities with other tools. This will error in NiBabel 5.0. This warning can be silenced by passing the dtype argument to Nifti1Image().\n",
      "  tractMask=nib.Nifti1Image(np.greater(tractMask,0).astype(int), affine=maskNifti.affine)\n"
     ]
    },
    {
     "name": "stdout",
     "output_type": "stream",
     "text": [
      "Tractogram subseting complete in 5.457607165999889, 61974 of 195004 within mask boundaries\n",
      "Tractogram segmentation complete in 33.137440720000086, 26499 of 195004 met INCLUSION criterion\n",
      "DIPY quickbundle\n",
      "identify streamlines to remove\n",
      "26419 of 26499 streams survived\n",
      "Load tck /home/udall-raid2/DBS_collaborators/DBS_for_sreta001/DBS-OCD/SLEEP116V2/Code/subsegment/indata/superior_aLIC_right.tck\n",
      "orienting streamlines\n"
     ]
    },
    {
     "name": "stderr",
     "output_type": "stream",
     "text": [
      "100%|██████████████████████████████████| 288087/288087 [05:02<00:00, 952.00it/s]\n"
     ]
    },
    {
     "name": "stdout",
     "output_type": "stream",
     "text": [
      "144411 of 288087 streamlines flipped\n",
      "saving oriented tck /home/udall-raid2/DBS_collaborators/DBS_for_sreta001/DBS-OCD/SLEEP116V2/Code/subsegment/output/superior_aLIC_right_oriented.tck\n",
      "saving density map /home/udall-raid2/DBS_collaborators/DBS_for_sreta001/DBS-OCD/SLEEP116V2/Code/subsegment/output/superior_aLIC_right.nii.gz\n",
      "Starting processing for superior_aLIC_right_2002_ctx-rh-caudalanteriorcingulate\n",
      "target label is: 2002 (ctx-rh-caudalanteriorcingulate)\n",
      "/home/udall-raid2/DBS_collaborators/DBS_for_sreta001/DBS-OCD/SLEEP116V2/Code/subsegment/output/superior_aLIC_right_2002_ctx-rh-caudalanteriorcingulate\n",
      "volumes of input ROIs to check [7424.]\n",
      "volumes of output ROIs to check [7424]\n",
      "   roiVolumes  inclusionCriteria  operations\n",
      "0        7424               True  either_end\n"
     ]
    },
    {
     "name": "stderr",
     "output_type": "stream",
     "text": [
      "/home/udall-raid2/DBS_collaborators/DBS_for_sreta001/DBS-OCD/SLEEP116V2/Code/subsegment/wma_pyTools/wmaPyTools/segmentationTools.py:830: FutureWarning: Image data has type int64, which may cause incompatibilities with other tools. This will error in NiBabel 5.0. This warning can be silenced by passing the dtype argument to Nifti1Image().\n",
      "  tractMask=nib.Nifti1Image(np.greater(tractMask,0).astype(int), affine=maskNifti.affine)\n"
     ]
    },
    {
     "name": "stdout",
     "output_type": "stream",
     "text": [
      "Tractogram subseting complete in 7.824459562999891, 1541 of 288087 within mask boundaries\n",
      "Tractogram segmentation complete in 0.1803590230001646, 351 of 288087 met INCLUSION criterion\n",
      "DIPY quickbundle\n",
      "identify streamlines to remove\n",
      "337 of 351 streams survived\n",
      "Starting processing for superior_aLIC_right_2026_ctx-rh-rostralanteriorcingulate\n",
      "target label is: 2026 (ctx-rh-rostralanteriorcingulate)\n",
      "/home/udall-raid2/DBS_collaborators/DBS_for_sreta001/DBS-OCD/SLEEP116V2/Code/subsegment/output/superior_aLIC_right_2026_ctx-rh-rostralanteriorcingulate\n",
      "volumes of input ROIs to check [7085.]\n",
      "volumes of output ROIs to check [7085]\n",
      "   roiVolumes  inclusionCriteria  operations\n",
      "0        7085               True  either_end\n"
     ]
    },
    {
     "name": "stderr",
     "output_type": "stream",
     "text": [
      "/home/udall-raid2/DBS_collaborators/DBS_for_sreta001/DBS-OCD/SLEEP116V2/Code/subsegment/wma_pyTools/wmaPyTools/segmentationTools.py:830: FutureWarning: Image data has type int64, which may cause incompatibilities with other tools. This will error in NiBabel 5.0. This warning can be silenced by passing the dtype argument to Nifti1Image().\n",
      "  tractMask=nib.Nifti1Image(np.greater(tractMask,0).astype(int), affine=maskNifti.affine)\n"
     ]
    },
    {
     "name": "stdout",
     "output_type": "stream",
     "text": [
      "Tractogram subseting complete in 7.799053334000291, 81 of 288087 within mask boundaries\n",
      "Tractogram segmentation complete in 0.12130216699915763, 32 of 288087 met INCLUSION criterion\n",
      "DIPY quickbundle\n",
      "identify streamlines to remove\n",
      "31 of 32 streams survived\n",
      "Starting processing for superior_aLIC_right_2012_ctx-rh-lateralorbitofrontal\n",
      "target label is: 2012 (ctx-rh-lateralorbitofrontal)\n",
      "/home/udall-raid2/DBS_collaborators/DBS_for_sreta001/DBS-OCD/SLEEP116V2/Code/subsegment/output/superior_aLIC_right_2012_ctx-rh-lateralorbitofrontal\n",
      "volumes of input ROIs to check [36282.]\n",
      "volumes of output ROIs to check [36282]\n",
      "   roiVolumes  inclusionCriteria  operations\n",
      "0       36282               True  either_end\n"
     ]
    },
    {
     "name": "stderr",
     "output_type": "stream",
     "text": [
      "/home/udall-raid2/DBS_collaborators/DBS_for_sreta001/DBS-OCD/SLEEP116V2/Code/subsegment/wma_pyTools/wmaPyTools/segmentationTools.py:830: FutureWarning: Image data has type int64, which may cause incompatibilities with other tools. This will error in NiBabel 5.0. This warning can be silenced by passing the dtype argument to Nifti1Image().\n",
      "  tractMask=nib.Nifti1Image(np.greater(tractMask,0).astype(int), affine=maskNifti.affine)\n"
     ]
    },
    {
     "name": "stdout",
     "output_type": "stream",
     "text": [
      "Tractogram subseting complete in 7.96000110299974, 10361 of 288087 within mask boundaries\n",
      "Tractogram segmentation complete in 0.7340844739992463, 787 of 288087 met INCLUSION criterion\n",
      "DIPY quickbundle\n",
      "identify streamlines to remove\n",
      "775 of 787 streams survived\n",
      "Starting processing for superior_aLIC_right_2020_ctx-rh-parstriangularis\n",
      "target label is: 2020 (ctx-rh-parstriangularis)\n",
      "/home/udall-raid2/DBS_collaborators/DBS_for_sreta001/DBS-OCD/SLEEP116V2/Code/subsegment/output/superior_aLIC_right_2020_ctx-rh-parstriangularis\n",
      "volumes of input ROIs to check [15198.]\n",
      "volumes of output ROIs to check [15198]\n",
      "   roiVolumes  inclusionCriteria  operations\n",
      "0       15198               True  either_end\n"
     ]
    },
    {
     "name": "stderr",
     "output_type": "stream",
     "text": [
      "/home/udall-raid2/DBS_collaborators/DBS_for_sreta001/DBS-OCD/SLEEP116V2/Code/subsegment/wma_pyTools/wmaPyTools/segmentationTools.py:830: FutureWarning: Image data has type int64, which may cause incompatibilities with other tools. This will error in NiBabel 5.0. This warning can be silenced by passing the dtype argument to Nifti1Image().\n",
      "  tractMask=nib.Nifti1Image(np.greater(tractMask,0).astype(int), affine=maskNifti.affine)\n"
     ]
    },
    {
     "name": "stdout",
     "output_type": "stream",
     "text": [
      "Tractogram subseting complete in 7.897561315999155, 21923 of 288087 within mask boundaries\n",
      "Tractogram segmentation complete in 4.845359685999938, 4724 of 288087 met INCLUSION criterion\n",
      "DIPY quickbundle\n",
      "identify streamlines to remove\n",
      "4700 of 4724 streams survived\n",
      "Starting processing for superior_aLIC_right_2028_ctx-rh-superiorfrontal\n",
      "target label is: 2028 (ctx-rh-superiorfrontal)\n",
      "/home/udall-raid2/DBS_collaborators/DBS_for_sreta001/DBS-OCD/SLEEP116V2/Code/subsegment/output/superior_aLIC_right_2028_ctx-rh-superiorfrontal\n",
      "volumes of input ROIs to check [108365.]\n",
      "volumes of output ROIs to check [108365]\n",
      "   roiVolumes  inclusionCriteria  operations\n",
      "0      108365               True  either_end\n"
     ]
    },
    {
     "name": "stderr",
     "output_type": "stream",
     "text": [
      "/home/udall-raid2/DBS_collaborators/DBS_for_sreta001/DBS-OCD/SLEEP116V2/Code/subsegment/wma_pyTools/wmaPyTools/segmentationTools.py:830: FutureWarning: Image data has type int64, which may cause incompatibilities with other tools. This will error in NiBabel 5.0. This warning can be silenced by passing the dtype argument to Nifti1Image().\n",
      "  tractMask=nib.Nifti1Image(np.greater(tractMask,0).astype(int), affine=maskNifti.affine)\n"
     ]
    },
    {
     "name": "stdout",
     "output_type": "stream",
     "text": [
      "Tractogram subseting complete in 8.177036295000107, 164412 of 288087 within mask boundaries\n",
      "Tractogram segmentation complete in 91.47537831499994, 92110 of 288087 met INCLUSION criterion\n",
      "DIPY quickbundle\n",
      "identify streamlines to remove\n",
      "92047 of 92110 streams survived\n",
      "Starting processing for superior_aLIC_right_2003_ctx-rh-caudalmiddlefrontal\n",
      "target label is: 2003 (ctx-rh-caudalmiddlefrontal)\n",
      "/home/udall-raid2/DBS_collaborators/DBS_for_sreta001/DBS-OCD/SLEEP116V2/Code/subsegment/output/superior_aLIC_right_2003_ctx-rh-caudalmiddlefrontal\n",
      "volumes of input ROIs to check [31475.]\n",
      "volumes of output ROIs to check [31475]\n",
      "   roiVolumes  inclusionCriteria  operations\n",
      "0       31475               True  either_end\n"
     ]
    },
    {
     "name": "stderr",
     "output_type": "stream",
     "text": [
      "/home/udall-raid2/DBS_collaborators/DBS_for_sreta001/DBS-OCD/SLEEP116V2/Code/subsegment/wma_pyTools/wmaPyTools/segmentationTools.py:830: FutureWarning: Image data has type int64, which may cause incompatibilities with other tools. This will error in NiBabel 5.0. This warning can be silenced by passing the dtype argument to Nifti1Image().\n",
      "  tractMask=nib.Nifti1Image(np.greater(tractMask,0).astype(int), affine=maskNifti.affine)\n"
     ]
    },
    {
     "name": "stdout",
     "output_type": "stream",
     "text": [
      "Tractogram subseting complete in 7.455008618000647, 83865 of 288087 within mask boundaries\n",
      "Tractogram segmentation complete in 21.078560253000433, 30020 of 288087 met INCLUSION criterion\n",
      "DIPY quickbundle\n",
      "identify streamlines to remove\n",
      "29977 of 30020 streams survived\n",
      "Starting processing for superior_aLIC_right_2014_ctx-rh-medialorbitofrontal\n",
      "target label is: 2014 (ctx-rh-medialorbitofrontal)\n",
      "/home/udall-raid2/DBS_collaborators/DBS_for_sreta001/DBS-OCD/SLEEP116V2/Code/subsegment/output/superior_aLIC_right_2014_ctx-rh-medialorbitofrontal\n",
      "volumes of input ROIs to check [25035.]\n",
      "volumes of output ROIs to check [25035]\n",
      "   roiVolumes  inclusionCriteria  operations\n",
      "0       25035               True  either_end\n"
     ]
    },
    {
     "name": "stderr",
     "output_type": "stream",
     "text": [
      "/home/udall-raid2/DBS_collaborators/DBS_for_sreta001/DBS-OCD/SLEEP116V2/Code/subsegment/wma_pyTools/wmaPyTools/segmentationTools.py:830: FutureWarning: Image data has type int64, which may cause incompatibilities with other tools. This will error in NiBabel 5.0. This warning can be silenced by passing the dtype argument to Nifti1Image().\n",
      "  tractMask=nib.Nifti1Image(np.greater(tractMask,0).astype(int), affine=maskNifti.affine)\n"
     ]
    },
    {
     "name": "stdout",
     "output_type": "stream",
     "text": [
      "Tractogram subseting complete in 7.26091213700056, 193 of 288087 within mask boundaries\n",
      "Tractogram segmentation complete in 0.10635807100061356, 72 of 288087 met INCLUSION criterion\n",
      "DIPY quickbundle\n",
      "identify streamlines to remove\n",
      "65 of 72 streams survived\n",
      "Starting processing for superior_aLIC_right_2019_ctx-rh-parsorbitalis\n",
      "target label is: 2019 (ctx-rh-parsorbitalis)\n",
      "/home/udall-raid2/DBS_collaborators/DBS_for_sreta001/DBS-OCD/SLEEP116V2/Code/subsegment/output/superior_aLIC_right_2019_ctx-rh-parsorbitalis\n",
      "volumes of input ROIs to check [11144.]\n",
      "volumes of output ROIs to check [11144]\n",
      "   roiVolumes  inclusionCriteria  operations\n",
      "0       11144               True  either_end\n"
     ]
    },
    {
     "name": "stderr",
     "output_type": "stream",
     "text": [
      "/home/udall-raid2/DBS_collaborators/DBS_for_sreta001/DBS-OCD/SLEEP116V2/Code/subsegment/wma_pyTools/wmaPyTools/segmentationTools.py:830: FutureWarning: Image data has type int64, which may cause incompatibilities with other tools. This will error in NiBabel 5.0. This warning can be silenced by passing the dtype argument to Nifti1Image().\n",
      "  tractMask=nib.Nifti1Image(np.greater(tractMask,0).astype(int), affine=maskNifti.affine)\n"
     ]
    },
    {
     "name": "stdout",
     "output_type": "stream",
     "text": [
      "Tractogram subseting complete in 6.982288463000259, 5169 of 288087 within mask boundaries\n",
      "Tractogram segmentation complete in 0.6063986799999839, 2154 of 288087 met INCLUSION criterion\n",
      "DIPY quickbundle\n",
      "identify streamlines to remove\n",
      "2144 of 2154 streams survived\n",
      "Starting processing for superior_aLIC_right_2027_ctx-rh-rostralmiddlefrontal\n",
      "target label is: 2027 (ctx-rh-rostralmiddlefrontal)\n",
      "/home/udall-raid2/DBS_collaborators/DBS_for_sreta001/DBS-OCD/SLEEP116V2/Code/subsegment/output/superior_aLIC_right_2027_ctx-rh-rostralmiddlefrontal\n",
      "volumes of input ROIs to check [70395.]\n",
      "volumes of output ROIs to check [70395]\n",
      "   roiVolumes  inclusionCriteria  operations\n",
      "0       70395               True  either_end\n"
     ]
    },
    {
     "name": "stderr",
     "output_type": "stream",
     "text": [
      "/home/udall-raid2/DBS_collaborators/DBS_for_sreta001/DBS-OCD/SLEEP116V2/Code/subsegment/wma_pyTools/wmaPyTools/segmentationTools.py:830: FutureWarning: Image data has type int64, which may cause incompatibilities with other tools. This will error in NiBabel 5.0. This warning can be silenced by passing the dtype argument to Nifti1Image().\n",
      "  tractMask=nib.Nifti1Image(np.greater(tractMask,0).astype(int), affine=maskNifti.affine)\n"
     ]
    },
    {
     "name": "stdout",
     "output_type": "stream",
     "text": [
      "Tractogram subseting complete in 7.340079041000536, 64230 of 288087 within mask boundaries\n",
      "Tractogram segmentation complete in 28.74592285199924, 27899 of 288087 met INCLUSION criterion\n",
      "DIPY quickbundle\n",
      "identify streamlines to remove\n",
      "27838 of 27899 streams survived\n"
     ]
    }
   ],
   "source": [
    "#Main cell, do all the hard work\n",
    "\n",
    "for iSide in ['left', 'right']:\n",
    "    for track_file in track_files[iSide]:        \n",
    "        # load & orient streamlines\n",
    "        \n",
    "        tck_oriented_file = saveFigDir / Path(track_file.stem + '_oriented').with_suffix('.tck')\n",
    "        if tck_oriented_file.exists():\n",
    "            print('oriented tck already exists. loading %s' % tck_oriented_file)\n",
    "            tckIn=nib.streamlines.load(tck_oriented_file)\n",
    "            streams = tckIn.streamlines\n",
    "        else:\n",
    "            print('Load tck %s' % track_file)\n",
    "            tckIn=nib.streamlines.load(track_file)\n",
    "            print(\"orienting streamlines\")\n",
    "            streams=wmaPyTools.streamlineTools.orientAllStreamlines(tckIn.streamlines)\n",
    "            # do quickbundles (never mind, takes too long)\n",
    "            #streams = streams[bundle(streams)]\n",
    "            # save oriented + bundled streams\n",
    "            print('saving oriented tck %s' % tck_oriented_file)\n",
    "            wmaPyTools.streamlineTools.stubbornSaveTractogram(streams,savePath=str(tck_oriented_file))\n",
    "        \n",
    "        parent_density_file = saveFigDir / Path(track_file.stem).with_suffix('.nii.gz')\n",
    "        print('saving density map %s' % parent_density_file)\n",
    "        save_density_map(streams, inflatedAtlas, parent_density_file)\n",
    "        \n",
    "        for iTarget in targetLabels[iSide]:\n",
    "            targetStr = lookupTable.loc[iTarget, 'LabelName:']\n",
    "            out_file = saveFigDir / ('%s_%04d_%s' % (track_file.stem, iTarget, targetStr))\n",
    "            print('Starting processing for %s' % out_file.stem)\n",
    "            \n",
    "            # subsegment the streams and save the resulting density map and tck tractogram\n",
    "            targetBool = save_streams_matching_target(streams, inflatedAtlas, lookupTable, iTarget, out_file)\n",
    "\n",
    "            "
   ]
  },
  {
   "cell_type": "code",
   "execution_count": 26,
   "id": "1b47653f",
   "metadata": {},
   "outputs": [
    {
     "name": "stdout",
     "output_type": "stream",
     "text": [
      "/home/udall-raid2/DBS_collaborators/DBS_for_sreta001/DBS-OCD/SLEEP116V2/Code/subsegment/output/inferior_aLIC_left_1002_ctx-lh-caudalanteriorcingulate\n",
      "/home/udall-raid2/DBS_collaborators/DBS_for_sreta001/DBS-OCD/SLEEP116V2/Code/subsegment/output/superior_aLIC_left_1002_ctx-lh-caudalanteriorcingulate\n",
      "/home/udall-raid2/DBS_collaborators/DBS_for_sreta001/DBS-OCD/SLEEP116V2/Code/subsegment/output/combined_aLIC_1002_ctx-lh-caudalanteriorcingulate\n",
      "/home/udall-raid2/DBS_collaborators/DBS_for_sreta001/DBS-OCD/SLEEP116V2/Code/subsegment/output/inferior_aLIC_left_1026_ctx-lh-rostralanteriorcingulate\n",
      "/home/udall-raid2/DBS_collaborators/DBS_for_sreta001/DBS-OCD/SLEEP116V2/Code/subsegment/output/superior_aLIC_left_1026_ctx-lh-rostralanteriorcingulate\n",
      "/home/udall-raid2/DBS_collaborators/DBS_for_sreta001/DBS-OCD/SLEEP116V2/Code/subsegment/output/combined_aLIC_1026_ctx-lh-rostralanteriorcingulate\n",
      "/home/udall-raid2/DBS_collaborators/DBS_for_sreta001/DBS-OCD/SLEEP116V2/Code/subsegment/output/inferior_aLIC_left_1012_ctx-lh-lateralorbitofrontal\n",
      "/home/udall-raid2/DBS_collaborators/DBS_for_sreta001/DBS-OCD/SLEEP116V2/Code/subsegment/output/superior_aLIC_left_1012_ctx-lh-lateralorbitofrontal\n",
      "/home/udall-raid2/DBS_collaborators/DBS_for_sreta001/DBS-OCD/SLEEP116V2/Code/subsegment/output/combined_aLIC_1012_ctx-lh-lateralorbitofrontal\n",
      "/home/udall-raid2/DBS_collaborators/DBS_for_sreta001/DBS-OCD/SLEEP116V2/Code/subsegment/output/inferior_aLIC_left_1020_ctx-lh-parstriangularis\n",
      "/home/udall-raid2/DBS_collaborators/DBS_for_sreta001/DBS-OCD/SLEEP116V2/Code/subsegment/output/superior_aLIC_left_1020_ctx-lh-parstriangularis\n",
      "/home/udall-raid2/DBS_collaborators/DBS_for_sreta001/DBS-OCD/SLEEP116V2/Code/subsegment/output/combined_aLIC_1020_ctx-lh-parstriangularis\n",
      "/home/udall-raid2/DBS_collaborators/DBS_for_sreta001/DBS-OCD/SLEEP116V2/Code/subsegment/output/inferior_aLIC_left_1028_ctx-lh-superiorfrontal\n",
      "/home/udall-raid2/DBS_collaborators/DBS_for_sreta001/DBS-OCD/SLEEP116V2/Code/subsegment/output/superior_aLIC_left_1028_ctx-lh-superiorfrontal\n",
      "/home/udall-raid2/DBS_collaborators/DBS_for_sreta001/DBS-OCD/SLEEP116V2/Code/subsegment/output/combined_aLIC_1028_ctx-lh-superiorfrontal\n",
      "/home/udall-raid2/DBS_collaborators/DBS_for_sreta001/DBS-OCD/SLEEP116V2/Code/subsegment/output/inferior_aLIC_left_1003_ctx-lh-caudalmiddlefrontal\n",
      "/home/udall-raid2/DBS_collaborators/DBS_for_sreta001/DBS-OCD/SLEEP116V2/Code/subsegment/output/superior_aLIC_left_1003_ctx-lh-caudalmiddlefrontal\n",
      "/home/udall-raid2/DBS_collaborators/DBS_for_sreta001/DBS-OCD/SLEEP116V2/Code/subsegment/output/combined_aLIC_1003_ctx-lh-caudalmiddlefrontal\n",
      "/home/udall-raid2/DBS_collaborators/DBS_for_sreta001/DBS-OCD/SLEEP116V2/Code/subsegment/output/inferior_aLIC_left_1014_ctx-lh-medialorbitofrontal\n",
      "/home/udall-raid2/DBS_collaborators/DBS_for_sreta001/DBS-OCD/SLEEP116V2/Code/subsegment/output/superior_aLIC_left_1014_ctx-lh-medialorbitofrontal\n",
      "/home/udall-raid2/DBS_collaborators/DBS_for_sreta001/DBS-OCD/SLEEP116V2/Code/subsegment/output/combined_aLIC_1014_ctx-lh-medialorbitofrontal\n",
      "/home/udall-raid2/DBS_collaborators/DBS_for_sreta001/DBS-OCD/SLEEP116V2/Code/subsegment/output/inferior_aLIC_left_1019_ctx-lh-parsorbitalis\n",
      "/home/udall-raid2/DBS_collaborators/DBS_for_sreta001/DBS-OCD/SLEEP116V2/Code/subsegment/output/superior_aLIC_left_1019_ctx-lh-parsorbitalis\n",
      "/home/udall-raid2/DBS_collaborators/DBS_for_sreta001/DBS-OCD/SLEEP116V2/Code/subsegment/output/combined_aLIC_1019_ctx-lh-parsorbitalis\n",
      "/home/udall-raid2/DBS_collaborators/DBS_for_sreta001/DBS-OCD/SLEEP116V2/Code/subsegment/output/inferior_aLIC_left_1027_ctx-lh-rostralmiddlefrontal\n",
      "/home/udall-raid2/DBS_collaborators/DBS_for_sreta001/DBS-OCD/SLEEP116V2/Code/subsegment/output/superior_aLIC_left_1027_ctx-lh-rostralmiddlefrontal\n",
      "/home/udall-raid2/DBS_collaborators/DBS_for_sreta001/DBS-OCD/SLEEP116V2/Code/subsegment/output/combined_aLIC_1027_ctx-lh-rostralmiddlefrontal\n",
      "/home/udall-raid2/DBS_collaborators/DBS_for_sreta001/DBS-OCD/SLEEP116V2/Code/subsegment/output/inferior_aLIC_right_2002_ctx-rh-caudalanteriorcingulate\n",
      "/home/udall-raid2/DBS_collaborators/DBS_for_sreta001/DBS-OCD/SLEEP116V2/Code/subsegment/output/superior_aLIC_right_2002_ctx-rh-caudalanteriorcingulate\n",
      "/home/udall-raid2/DBS_collaborators/DBS_for_sreta001/DBS-OCD/SLEEP116V2/Code/subsegment/output/combined_aLIC_2002_ctx-rh-caudalanteriorcingulate\n",
      "/home/udall-raid2/DBS_collaborators/DBS_for_sreta001/DBS-OCD/SLEEP116V2/Code/subsegment/output/inferior_aLIC_right_2026_ctx-rh-rostralanteriorcingulate\n",
      "/home/udall-raid2/DBS_collaborators/DBS_for_sreta001/DBS-OCD/SLEEP116V2/Code/subsegment/output/superior_aLIC_right_2026_ctx-rh-rostralanteriorcingulate\n",
      "/home/udall-raid2/DBS_collaborators/DBS_for_sreta001/DBS-OCD/SLEEP116V2/Code/subsegment/output/combined_aLIC_2026_ctx-rh-rostralanteriorcingulate\n",
      "/home/udall-raid2/DBS_collaborators/DBS_for_sreta001/DBS-OCD/SLEEP116V2/Code/subsegment/output/inferior_aLIC_right_2012_ctx-rh-lateralorbitofrontal\n",
      "/home/udall-raid2/DBS_collaborators/DBS_for_sreta001/DBS-OCD/SLEEP116V2/Code/subsegment/output/superior_aLIC_right_2012_ctx-rh-lateralorbitofrontal\n",
      "/home/udall-raid2/DBS_collaborators/DBS_for_sreta001/DBS-OCD/SLEEP116V2/Code/subsegment/output/combined_aLIC_2012_ctx-rh-lateralorbitofrontal\n",
      "/home/udall-raid2/DBS_collaborators/DBS_for_sreta001/DBS-OCD/SLEEP116V2/Code/subsegment/output/inferior_aLIC_right_2020_ctx-rh-parstriangularis\n",
      "/home/udall-raid2/DBS_collaborators/DBS_for_sreta001/DBS-OCD/SLEEP116V2/Code/subsegment/output/superior_aLIC_right_2020_ctx-rh-parstriangularis\n",
      "/home/udall-raid2/DBS_collaborators/DBS_for_sreta001/DBS-OCD/SLEEP116V2/Code/subsegment/output/combined_aLIC_2020_ctx-rh-parstriangularis\n",
      "/home/udall-raid2/DBS_collaborators/DBS_for_sreta001/DBS-OCD/SLEEP116V2/Code/subsegment/output/inferior_aLIC_right_2028_ctx-rh-superiorfrontal\n",
      "/home/udall-raid2/DBS_collaborators/DBS_for_sreta001/DBS-OCD/SLEEP116V2/Code/subsegment/output/superior_aLIC_right_2028_ctx-rh-superiorfrontal\n",
      "/home/udall-raid2/DBS_collaborators/DBS_for_sreta001/DBS-OCD/SLEEP116V2/Code/subsegment/output/combined_aLIC_2028_ctx-rh-superiorfrontal\n",
      "/home/udall-raid2/DBS_collaborators/DBS_for_sreta001/DBS-OCD/SLEEP116V2/Code/subsegment/output/inferior_aLIC_right_2003_ctx-rh-caudalmiddlefrontal\n",
      "/home/udall-raid2/DBS_collaborators/DBS_for_sreta001/DBS-OCD/SLEEP116V2/Code/subsegment/output/superior_aLIC_right_2003_ctx-rh-caudalmiddlefrontal\n",
      "/home/udall-raid2/DBS_collaborators/DBS_for_sreta001/DBS-OCD/SLEEP116V2/Code/subsegment/output/combined_aLIC_2003_ctx-rh-caudalmiddlefrontal\n",
      "/home/udall-raid2/DBS_collaborators/DBS_for_sreta001/DBS-OCD/SLEEP116V2/Code/subsegment/output/inferior_aLIC_right_2014_ctx-rh-medialorbitofrontal\n",
      "/home/udall-raid2/DBS_collaborators/DBS_for_sreta001/DBS-OCD/SLEEP116V2/Code/subsegment/output/superior_aLIC_right_2014_ctx-rh-medialorbitofrontal\n",
      "/home/udall-raid2/DBS_collaborators/DBS_for_sreta001/DBS-OCD/SLEEP116V2/Code/subsegment/output/combined_aLIC_2014_ctx-rh-medialorbitofrontal\n",
      "/home/udall-raid2/DBS_collaborators/DBS_for_sreta001/DBS-OCD/SLEEP116V2/Code/subsegment/output/inferior_aLIC_right_2019_ctx-rh-parsorbitalis\n",
      "/home/udall-raid2/DBS_collaborators/DBS_for_sreta001/DBS-OCD/SLEEP116V2/Code/subsegment/output/superior_aLIC_right_2019_ctx-rh-parsorbitalis\n",
      "/home/udall-raid2/DBS_collaborators/DBS_for_sreta001/DBS-OCD/SLEEP116V2/Code/subsegment/output/combined_aLIC_2019_ctx-rh-parsorbitalis\n",
      "/home/udall-raid2/DBS_collaborators/DBS_for_sreta001/DBS-OCD/SLEEP116V2/Code/subsegment/output/inferior_aLIC_right_2027_ctx-rh-rostralmiddlefrontal\n",
      "/home/udall-raid2/DBS_collaborators/DBS_for_sreta001/DBS-OCD/SLEEP116V2/Code/subsegment/output/superior_aLIC_right_2027_ctx-rh-rostralmiddlefrontal\n",
      "/home/udall-raid2/DBS_collaborators/DBS_for_sreta001/DBS-OCD/SLEEP116V2/Code/subsegment/output/combined_aLIC_2027_ctx-rh-rostralmiddlefrontal\n"
     ]
    }
   ],
   "source": [
    "# generate combined niftis\n",
    "for iSide in ['left', 'right']:\n",
    "    for iTarget in targetLabels[iSide]:\n",
    "        combined_img = np.zeros(refT1.shape)\n",
    "        for track_file in track_files[iSide]:  # iterate over inferior and superior\n",
    "            targetStr = lookupTable.loc[iTarget, 'LabelName:']\n",
    "            in_file = saveFigDir / ('%s_%04d_%s' % (track_file.stem, iTarget, targetStr))\n",
    "            print(in_file)\n",
    "            combined_img += nib.load(in_file.with_suffix('.nii.gz')).get_fdata()\n",
    "        combined_file  = saveFigDir / ('combined_aLIC_%04d_%s' % ( iTarget, targetStr))\n",
    "        combinedNifti = nib.nifti1.Nifti1Image(combined_img, refT1.affine, refT1.header)\n",
    "        print(combined_file)\n",
    "        nib.save(combinedNifti, combined_file.with_suffix('.nii.gz'))\n",
    "        "
   ]
  },
  {
   "cell_type": "code",
   "execution_count": null,
   "id": "c505057b",
   "metadata": {},
   "outputs": [],
   "source": []
  },
  {
   "cell_type": "markdown",
   "id": "fa2463a2",
   "metadata": {},
   "source": [
    "## Appendix"
   ]
  },
  {
   "cell_type": "code",
   "execution_count": 9,
   "id": "943d5402",
   "metadata": {},
   "outputs": [],
   "source": [
    "# load tractogram\n",
    "# SKIPPED because we're iterating over multiple tractograms\n",
    "tckIn=nib.streamlines.load(tckPath)"
   ]
  },
  {
   "cell_type": "code",
   "execution_count": 10,
   "id": "c33e7ae7",
   "metadata": {
    "scrolled": false
   },
   "outputs": [
    {
     "name": "stdout",
     "output_type": "stream",
     "text": [
      "orienting streamlines\n"
     ]
    },
    {
     "name": "stderr",
     "output_type": "stream",
     "text": [
      "100%|████████████████████████████████| 2400000/2400000 [48:08<00:00, 830.78it/s]"
     ]
    },
    {
     "name": "stdout",
     "output_type": "stream",
     "text": [
      "1196452 of 2400000 streamlines flipped\n"
     ]
    },
    {
     "name": "stderr",
     "output_type": "stream",
     "text": [
      "\n"
     ]
    }
   ],
   "source": [
    "# orient all the steamlines, potentially not necessary given redundancy with \n",
    "# subsequent steps\n",
    "# SKIPPED because we're using either_end selection\n",
    "\n",
    "print(\"orienting streamlines\")\n",
    "orientedStreams=wmaPyTools.streamlineTools.orientAllStreamlines(tckIn.streamlines)"
   ]
  },
  {
   "cell_type": "code",
   "execution_count": 11,
   "id": "da290219",
   "metadata": {},
   "outputs": [
    {
     "name": "stdout",
     "output_type": "stream",
     "text": [
      "save oriented tck\n"
     ]
    },
    {
     "data": {
      "text/plain": [
       "<dipy.io.stateful_tractogram.StatefulTractogram at 0x7f1f2875a260>"
      ]
     },
     "execution_count": 11,
     "metadata": {},
     "output_type": "execute_result"
    }
   ],
   "source": [
    "# save oriented streams\n",
    "# SKIPPED\n",
    "print(\"save oriented tck\")\n",
    "subTckSavePath=os.path.join(saveFigDir,'track_oriented.tck')\n",
    "wmaPyTools.streamlineTools.stubbornSaveTractogram(orientedStreams,savePath=subTckSavePath)\n"
   ]
  },
  {
   "cell_type": "code",
   "execution_count": 25,
   "id": "755f4b1c",
   "metadata": {},
   "outputs": [
    {
     "data": {
      "text/plain": [
       "<dipy.io.stateful_tractogram.StatefulTractogram at 0x7f1f23b9cd90>"
      ]
     },
     "execution_count": 25,
     "metadata": {},
     "output_type": "execute_result"
    }
   ],
   "source": [
    "# save lite streamlines\n",
    "#SKIPPED\n",
    "n_streams_to_keep = int(5E5)\n",
    "select_bool = np.random.choice(range(len(orientedStreams)), n_streams_to_keep, replace=False)\n",
    "lite_streams = orientedStreams[select_bool]\n",
    "wmaPyTools.streamlineTools.stubbornSaveTractogram(lite_streams,\n",
    "    savePath=str(Path(saveFigDir) / 'track_lite.tck'))\n"
   ]
  },
  {
   "cell_type": "code",
   "execution_count": 26,
   "id": "10654e17",
   "metadata": {},
   "outputs": [],
   "source": [
    "# select streamlines to work on\n",
    "\n",
    "streams = lite_streams\n"
   ]
  },
  {
   "cell_type": "code",
   "execution_count": 46,
   "id": "f1ef4764",
   "metadata": {},
   "outputs": [
    {
     "name": "stderr",
     "output_type": "stream",
     "text": [
      "/opt/local/dbs/bin/miniconda3/envs/subsegment/lib/python3.10/site-packages/nilearn/image/resampling.py:780: UserWarning: Data array used to create a new image contains 64-bit ints. This is likely due to creating the array with numpy and passing `int` as the `dtype`. Many tools such as FSL and SPM cannot deal with int64 in Nifti images, so for compatibility the data has been converted to int32.\n",
      "  return new_img_like(img, data, affine)\n"
     ]
    },
    {
     "ename": "KeyboardInterrupt",
     "evalue": "",
     "output_type": "error",
     "traceback": [
      "\u001b[0;31m---------------------------------------------------------------------------\u001b[0m",
      "\u001b[0;31mKeyboardInterrupt\u001b[0m                         Traceback (most recent call last)",
      "Cell \u001b[0;32mIn [46], line 4\u001b[0m\n\u001b[1;32m      1\u001b[0m \u001b[38;5;28;01mfrom\u001b[39;00m \u001b[38;5;21;01mdipy\u001b[39;00m\u001b[38;5;21;01m.\u001b[39;00m\u001b[38;5;21;01mtracking\u001b[39;00m\u001b[38;5;21;01m.\u001b[39;00m\u001b[38;5;21;01mutils\u001b[39;00m \u001b[38;5;28;01mimport\u001b[39;00m density_map\n\u001b[1;32m      2\u001b[0m \u001b[38;5;28;01mfrom\u001b[39;00m \u001b[38;5;21;01mwmaPyTools\u001b[39;00m\u001b[38;5;21;01m.\u001b[39;00m\u001b[38;5;21;01mvisTools\u001b[39;00m \u001b[38;5;28;01mimport\u001b[39;00m multiTileDensity\n\u001b[0;32m----> 4\u001b[0m \u001b[43mmultiTileDensity\u001b[49m\u001b[43m(\u001b[49m\u001b[43mstreams\u001b[49m\u001b[43m,\u001b[49m\u001b[43mrefT1\u001b[49m\u001b[43m,\u001b[49m\u001b[43msaveFigDir\u001b[49m\u001b[43m,\u001b[49m\u001b[38;5;124;43m'\u001b[39;49m\u001b[38;5;124;43mdensity\u001b[39;49m\u001b[38;5;124;43m'\u001b[39;49m\u001b[43m,\u001b[49m\u001b[43mdensityThreshold\u001b[49m\u001b[38;5;241;43m=\u001b[39;49m\u001b[38;5;241;43m0\u001b[39;49m\u001b[43m,\u001b[49m\u001b[43mnoEmpties\u001b[49m\u001b[38;5;241;43m=\u001b[39;49m\u001b[38;5;28;43;01mTrue\u001b[39;49;00m\u001b[43m)\u001b[49m\n",
      "File \u001b[0;32m/home/udall-raid2/DBS_collaborators/DBS_for_sreta001/DBS-OCD/OCD004/Code/subsegmentation_tcks/wma_pyTools/wmaPyTools/visTools.py:527\u001b[0m, in \u001b[0;36mmultiTileDensity\u001b[0;34m(streamlines, refAnatT1, saveDir, tractName, densityThreshold, noEmpties)\u001b[0m\n\u001b[1;32m    521\u001b[0m     \u001b[38;5;66;03m#iterate across slices\u001b[39;00m\n\u001b[1;32m    522\u001b[0m \u001b[38;5;28;01mfor\u001b[39;00m iSlices \u001b[38;5;129;01min\u001b[39;00m \u001b[38;5;28mlist\u001b[39m(\u001b[38;5;28mrange\u001b[39m(\u001b[38;5;28mlen\u001b[39m(subjectSpaceSlices))):\n\u001b[1;32m    523\u001b[0m     \u001b[38;5;66;03m#set the slice list entry to the appropriate singular value\u001b[39;00m\n\u001b[1;32m    524\u001b[0m     \u001b[38;5;66;03m#THE SOLUTION WAS SO OBVIOUS. DONT USE A SINGLE SLICE FOR BOTH THE\u001b[39;00m\n\u001b[1;32m    525\u001b[0m     \u001b[38;5;66;03m#REFERNCE AND THE OVERLAY.  DUH!\u001b[39;00m\n\u001b[1;32m    526\u001b[0m     \u001b[38;5;66;03m#actually this doesn't matter if we resample\u001b[39;00m\n\u001b[0;32m--> 527\u001b[0m     currentRefSlice\u001b[38;5;241m=\u001b[39m\u001b[43mwmaPyTools\u001b[49m\u001b[38;5;241;43m.\u001b[39;49m\u001b[43mroiTools\u001b[49m\u001b[38;5;241;43m.\u001b[39;49m\u001b[43mmakePlanarROI\u001b[49m\u001b[43m(\u001b[49m\u001b[43mrefAnatT1\u001b[49m\u001b[43m,\u001b[49m\u001b[43m \u001b[49m\u001b[43msubjectSpaceSlices\u001b[49m\u001b[43m[\u001b[49m\u001b[43miSlices\u001b[49m\u001b[43m]\u001b[49m\u001b[43m,\u001b[49m\u001b[43m \u001b[49m\u001b[43mdimsList\u001b[49m\u001b[43m[\u001b[49m\u001b[43miDims\u001b[49m\u001b[43m]\u001b[49m\u001b[43m)\u001b[49m\n\u001b[1;32m    528\u001b[0m     \u001b[38;5;66;03m#could be an issue if overlay nifti is signifigantly smaller\u001b[39;00m\n\u001b[1;32m    529\u001b[0m     currentOverlaySlice\u001b[38;5;241m=\u001b[39mwmaPyTools\u001b[38;5;241m.\u001b[39mroiTools\u001b[38;5;241m.\u001b[39mmakePlanarROI(overlayNifti, subjectSpaceSlices[iSlices], dimsList[iDims])\n",
      "File \u001b[0;32m/home/udall-raid2/DBS_collaborators/DBS_for_sreta001/DBS-OCD/OCD004/Code/subsegmentation_tcks/wma_pyTools/wmaPyTools/roiTools.py:96\u001b[0m, in \u001b[0;36mmakePlanarROI\u001b[0;34m(reference, mmPlane, dimension)\u001b[0m\n\u001b[1;32m     93\u001b[0m inds \u001b[38;5;241m=\u001b[39m ut\u001b[38;5;241m.\u001b[39m_to_voxel_coordinates(testSplit, lin_T, offset)\n\u001b[1;32m     95\u001b[0m \u001b[38;5;66;03m#create a blank array for the output\u001b[39;00m\n\u001b[0;32m---> 96\u001b[0m outData\u001b[38;5;241m=\u001b[39m\u001b[43mnp\u001b[49m\u001b[38;5;241;43m.\u001b[39;49m\u001b[43mzeros\u001b[49m\u001b[43m(\u001b[49m\u001b[43mreference\u001b[49m\u001b[38;5;241;43m.\u001b[39;49m\u001b[43mshape\u001b[49m\u001b[43m)\u001b[49m\u001b[38;5;241;43m.\u001b[39;49m\u001b[43mastype\u001b[49m\u001b[43m(\u001b[49m\u001b[38;5;28;43mbool\u001b[39;49m\u001b[43m)\u001b[49m\n\u001b[1;32m     97\u001b[0m \u001b[38;5;66;03m#set the relevant indexes to true\u001b[39;00m\n\u001b[1;32m     98\u001b[0m \u001b[38;5;66;03m#-1 because of zero indexing\u001b[39;00m\n\u001b[1;32m     99\u001b[0m outData[inds[:,\u001b[38;5;241m0\u001b[39m]\u001b[38;5;241m-\u001b[39m\u001b[38;5;241m1\u001b[39m,inds[:,\u001b[38;5;241m1\u001b[39m]\u001b[38;5;241m-\u001b[39m\u001b[38;5;241m1\u001b[39m,inds[:,\u001b[38;5;241m2\u001b[39m]\u001b[38;5;241m-\u001b[39m\u001b[38;5;241m1\u001b[39m]\u001b[38;5;241m=\u001b[39m\u001b[38;5;28;01mTrue\u001b[39;00m\n",
      "\u001b[0;31mKeyboardInterrupt\u001b[0m: "
     ]
    }
   ],
   "source": [
    "from dipy.tracking.utils import density_map\n",
    "from wmaPyTools.visTools import multiTileDensity\n",
    "\n",
    "multiTileDensity(streams,refT1,saveFigDir,'density',densityThreshold=0,noEmpties=True)"
   ]
  },
  {
   "cell_type": "code",
   "execution_count": 49,
   "id": "80b8f2bf",
   "metadata": {},
   "outputs": [
    {
     "name": "stderr",
     "output_type": "stream",
     "text": [
      "/tmp/ipykernel_23404/3961023847.py:1: DeprecationWarning: `np.int` is a deprecated alias for the builtin `int`. To silence this warning, use `int` by itself. Doing this will not modify any behavior and is safe. When replacing `np.int`, you may wish to use e.g. `np.int64` or `np.int32` to specify the precision. If you wish to review your current use, check the release note link for additional information.\n",
      "Deprecated in NumPy 1.20; for more details and guidance: https://numpy.org/devdocs/release/1.20.0-notes.html#deprecations\n",
      "  M, grouping = utils.connectivity_matrix(streams, inflatedAtlas.affine, inflatedAtlas.get_fdata().astype(np.int),\n"
     ]
    }
   ],
   "source": [
    "M, grouping = utils.connectivity_matrix(streams, inflatedAtlas.affine, inflatedAtlas.get_fdata().astype(np.int),\n",
    "                                        return_mapping=True,\n",
    "                                        mapping_as_streamlines=True)"
   ]
  },
  {
   "cell_type": "code",
   "execution_count": 67,
   "id": "106c672d",
   "metadata": {},
   "outputs": [
    {
     "data": {
      "text/plain": [
       "(2036, 2036)"
      ]
     },
     "execution_count": 67,
     "metadata": {},
     "output_type": "execute_result"
    }
   ],
   "source": [
    "np.shape(M)"
   ]
  },
  {
   "cell_type": "code",
   "execution_count": 42,
   "id": "3571e6dd",
   "metadata": {},
   "outputs": [
    {
     "name": "stdout",
     "output_type": "stream",
     "text": [
      "1002\n",
      "ctx-lh-caudalanteriorcingulate\n",
      "1003\n",
      "ctx-lh-caudalmiddlefrontal\n",
      "1012\n",
      "ctx-lh-lateralorbitofrontal\n",
      "1014\n",
      "ctx-lh-medialorbitofrontal\n",
      "1019\n",
      "ctx-lh-parsorbitalis\n",
      "1020\n",
      "ctx-lh-parstriangularis\n",
      "1026\n",
      "ctx-lh-rostralanteriorcingulate\n",
      "1027\n",
      "ctx-lh-rostralmiddlefrontal\n",
      "1028\n",
      "ctx-lh-superiorfrontal\n",
      "2002\n",
      "ctx-rh-caudalanteriorcingulate\n",
      "2003\n",
      "ctx-rh-caudalmiddlefrontal\n",
      "2012\n",
      "ctx-rh-lateralorbitofrontal\n",
      "2014\n",
      "ctx-rh-medialorbitofrontal\n",
      "2019\n",
      "ctx-rh-parsorbitalis\n",
      "2020\n",
      "ctx-rh-parstriangularis\n",
      "2026\n",
      "ctx-rh-rostralanteriorcingulate\n",
      "2027\n",
      "ctx-rh-rostralmiddlefrontal\n",
      "2028\n",
      "ctx-rh-superiorfrontal\n"
     ]
    }
   ],
   "source": [
    "targets = targetLabels['left'] + targetLabels['right']\n",
    "targets.sort()\n",
    "for iTarget in targets:\n",
    "    print(iTarget)\n",
    "    print(lookupTable.loc[iTarget, 'LabelName:'])"
   ]
  },
  {
   "cell_type": "code",
   "execution_count": null,
   "id": "34d698d6",
   "metadata": {},
   "outputs": [],
   "source": []
  },
  {
   "cell_type": "code",
   "execution_count": null,
   "id": "3f233805",
   "metadata": {},
   "outputs": [],
   "source": []
  },
  {
   "cell_type": "code",
   "execution_count": 64,
   "id": "b3d8005b",
   "metadata": {},
   "outputs": [],
   "source": []
  },
  {
   "cell_type": "code",
   "execution_count": null,
   "id": "b6e81341",
   "metadata": {
    "scrolled": false
   },
   "outputs": [],
   "source": []
  }
 ],
 "metadata": {
  "kernelspec": {
   "display_name": "Python 3 (ipykernel)",
   "language": "python",
   "name": "python3"
  },
  "language_info": {
   "codemirror_mode": {
    "name": "ipython",
    "version": 3
   },
   "file_extension": ".py",
   "mimetype": "text/x-python",
   "name": "python",
   "nbconvert_exporter": "python",
   "pygments_lexer": "ipython3",
   "version": "3.10.8"
  }
 },
 "nbformat": 4,
 "nbformat_minor": 5
}
